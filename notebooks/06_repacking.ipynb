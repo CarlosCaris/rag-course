{
 "cells": [
  {
   "cell_type": "code",
   "execution_count": null,
   "metadata": {},
   "outputs": [],
   "source": []
  },
  {
   "cell_type": "markdown",
   "metadata": {},
   "source": [
    "# Lesson 6: Document Repacking for Generation\n",
    "\n",
    "**Objective**: Optimize the order and structure of retrieved documents before passing them to the generation model.\n",
    "\n",
    "**Topics**:\n",
    "- Repacking methods: forward, reverse, sides\n",
    "- Impact of document order on response generation\n",
    "- Integrating repacking into the RAG pipeline\n",
    "\n",
    "**Practical Task**: Implement a repacking strategy and integrate it with the retrieval and reranking steps.\n",
    "\n",
    "**Resources**:\n",
    "- RAG best practices\n"
   ]
  },
  {
   "cell_type": "markdown",
   "metadata": {},
   "source": []
  }
 ],
 "metadata": {
  "language_info": {
   "name": "python"
  }
 },
 "nbformat": 4,
 "nbformat_minor": 2
}
