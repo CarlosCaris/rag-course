{
 "cells": [
  {
   "cell_type": "code",
   "execution_count": null,
   "metadata": {},
   "outputs": [],
   "source": []
  },
  {
   "cell_type": "markdown",
   "metadata": {},
   "source": [
    "# Lesson 8: Evaluation and Optimization of the RAG System\n",
    "\n",
    "**Objective**: Assess the performance of the entire RAG system and identify areas for improvement.\n",
    "\n",
    "**Topics**:\n",
    "- Evaluation metrics: Faithfulness, Context Relevancy, Answer Relevancy, Answer Correctness\n",
    "- Analyzing results from different components of the RAG system\n",
    "- Iterative optimization based on evaluation results\n",
    "\n",
    "**Practical Task**: Conduct a full evaluation of your RAG system using a test dataset, and iteratively optimize the components.\n",
    "\n",
    "**Resources**:\n"
   ]
  },
  {
   "cell_type": "markdown",
   "metadata": {},
   "source": []
  }
 ],
 "metadata": {
  "language_info": {
   "name": "python"
  }
 },
 "nbformat": 4,
 "nbformat_minor": 2
}
