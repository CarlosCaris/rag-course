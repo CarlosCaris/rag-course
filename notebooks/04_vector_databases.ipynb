{
 "cells": [
  {
   "cell_type": "code",
   "execution_count": null,
   "metadata": {},
   "outputs": [],
   "source": []
  },
  {
   "cell_type": "markdown",
   "metadata": {},
   "source": [
    "# Lesson 4: Retrieval Methods and Vector Databases\n",
    "\n",
    "**Objective**: Build a retrieval system that efficiently searches for relevant document chunks.\n",
    "\n",
    "**Topics**:\n",
    "- Sparse vs. dense retrieval methods\n",
    "- Hybrid search methods (e.g., combining BM25 with dense retrieval)\n",
    "- Overview of vector databases: Milvus, Faiss, Qdrant\n",
    "\n",
    "**Practical Task**: Set up a vector database and implement a retrieval method.\n",
    "\n",
    "**Resources**:\n",
    "- What is a vector database\n",
    "- Choosing a vector database\n"
   ]
  },
  {
   "cell_type": "markdown",
   "metadata": {},
   "source": [
    "#### Load the dataset"
   ]
  },
  {
   "cell_type": "code",
   "execution_count": 1,
   "metadata": {},
   "outputs": [],
   "source": [
    "from langchain_community.document_loaders import PyPDFLoader\n",
    "\n",
    "file_path = (\n",
    "    \"../data/Regulaciones cacao y chocolate 2003.pdf\"\n",
    ")\n",
    "loader = PyPDFLoader(file_path)\n",
    "splitted_doc = loader.load_and_split()"
   ]
  },
  {
   "cell_type": "markdown",
   "metadata": {},
   "source": [
    "## Documents"
   ]
  },
  {
   "cell_type": "code",
   "execution_count": 4,
   "metadata": {},
   "outputs": [
    {
     "data": {
      "text/plain": [
       "'Status:  This is the original version (as it was originally made).\\nSTATUTORY INSTRUMENTS\\n2003 No. 1659\\nFOOD, ENGLAND\\nThe Cocoa and Chocolate Products (England) Regulations 2003\\nMade        -      -       -      - 25th June 2003\\nLaid before Parliament 3rd July 2003\\nComing into force       -      - 3rd August 2003\\nThe Secretary of State, in exercise of the powers conferred by sections 16(1)(e), 17(1), 26(1) and (3)\\nand 48(1) of the Food Safety Act 1990 (1) and now vested in him (2) and of all other powers enabling\\nhim in that behalf, having had regard in accordance with section 48(4A) of that Act to relevant\\nadvice given by the Food Standards Agency, and after consultation both as required by Article 9\\nof Regulation (EC) No. 178/2002  of the European Parliament and of the Council laying down the\\ngeneral principles and requirements of food law, establishing the European Food Safety Authority\\nand laying down procedures in matters of food safety (3) and in accordance with section 48(4) and\\n(4B) of that Act, hereby makes the following Regulations:\\nTitle, commencement and application\\n1.These Regulations may be cited as the Cocoa and Chocolate Products (England) Regulations\\n2003, shall come into force on 3rd August 2003 and shall apply to England only.\\nInterpretation\\n2.—(1)  In these Regulations—\\n“the Act” means the Food Safety Act 1990;\\n(1)1990 c. 16 .\\n(2)Functions formerly exercisable by “the Ministers” (being, in relation to England and Wales and acting jointly, the Minister\\nof Agriculture, Fisheries and Food and the Secretaries of State respectively concerned with health in England and food and\\nhealth in Wales and, in relation to Scotland, the Secretary of State) are now exercisable in relation to England by the Secretary\\nof State pursuant to paragraphs 7 and 8 of Schedule 5 to the Food Standards Act 1999 (c. 28) , and paragraphs 12 and 21 of\\nthat Schedule amend sections 17(1) and 48 of the 1990 Act. Functions of “the Ministers” so far as exercisable in relation\\nto Wales were transferred to the National Assembly for Wales by the National Assembly for Wales (Transfer of Functions)\\nOrder 1999 (S.I. 1999/672 ), as read with section 40(3) of the 1999 Act, and those functions so far as exercisable in relation to\\nScotland were transferred to the Scottish Ministers by section 53 of the Scotland Act 1998 (c. 46)  as read with section 40(2)\\nof the 1999 Act. Regulation 13(4) of the Food Standards Act 1999 (Transitional and Consequential Provisions and Savings)\\n(England and Wales) Regulations 2000 (S.I. 2000/656 ) expressly authorises the Secretary of State to amend or revoke existing\\nRegulations made or having effect as if made by the Minister of Agriculture, Fisheries and Food (whether with others or not)\\nunder the 1990 Act.\\n(3)OJ No. L31, 1.2.2002, p.1.'"
      ]
     },
     "execution_count": 4,
     "metadata": {},
     "output_type": "execute_result"
    }
   ],
   "source": [
    "# page content\n",
    "splitted_doc[0].page_content"
   ]
  },
  {
   "cell_type": "code",
   "execution_count": 5,
   "metadata": {},
   "outputs": [
    {
     "data": {
      "text/plain": [
       "{'source': '../data/Regulaciones cacao y chocolate 2003.pdf', 'page': 0}"
      ]
     },
     "execution_count": 5,
     "metadata": {},
     "output_type": "execute_result"
    }
   ],
   "source": [
    "# metadata\n",
    "splitted_doc[0].metadata"
   ]
  },
  {
   "cell_type": "markdown",
   "metadata": {},
   "source": [
    "### Embeddings function"
   ]
  },
  {
   "cell_type": "code",
   "execution_count": 7,
   "metadata": {},
   "outputs": [
    {
     "data": {
      "text/plain": [
       "[0.02872576005756855, -0.047862425446510315, 0.005437064450234175]"
      ]
     },
     "execution_count": 7,
     "metadata": {},
     "output_type": "execute_result"
    }
   ],
   "source": [
    "from langchain_huggingface import HuggingFaceEmbeddings\n",
    "\n",
    "embedding_model = HuggingFaceEmbeddings(model_name=\"sentence-transformers/all-mpnet-base-v2\")\n",
    "embedded_document = embedding_model.embed_query(splitted_doc[0].page_content)\n",
    "embedded_document[:3]"
   ]
  },
  {
   "cell_type": "markdown",
   "metadata": {},
   "source": [
    "# A first approach"
   ]
  },
  {
   "cell_type": "code",
   "execution_count": 9,
   "metadata": {},
   "outputs": [
    {
     "data": {
      "text/plain": [
       "True"
      ]
     },
     "execution_count": 9,
     "metadata": {},
     "output_type": "execute_result"
    }
   ],
   "source": [
    "from dotenv import load_dotenv\n",
    "\n",
    "load_dotenv()"
   ]
  },
  {
   "cell_type": "code",
   "execution_count": 11,
   "metadata": {},
   "outputs": [],
   "source": [
    "from langchain_qdrant import QdrantVectorStore\n",
    "from qdrant_client import QdrantClient\n",
    "from qdrant_client.http.models import Distance, VectorParams"
   ]
  },
  {
   "cell_type": "code",
   "execution_count": 13,
   "metadata": {},
   "outputs": [],
   "source": [
    "client = QdrantClient(path=\"/tmp/langchain_qdrant\")"
   ]
  },
  {
   "cell_type": "code",
   "execution_count": 15,
   "metadata": {},
   "outputs": [
    {
     "data": {
      "text/plain": [
       "True"
      ]
     },
     "execution_count": 15,
     "metadata": {},
     "output_type": "execute_result"
    }
   ],
   "source": [
    "client.delete_collection(collection_name=\"demo_collection\")"
   ]
  },
  {
   "cell_type": "code",
   "execution_count": 16,
   "metadata": {},
   "outputs": [],
   "source": [
    "client.create_collection(\n",
    "    collection_name=\"demo_collection\",\n",
    "    vectors_config=VectorParams(size=768, distance=Distance.COSINE),\n",
    ")\n",
    "\n",
    "vector_store = QdrantVectorStore(\n",
    "    client=client,\n",
    "    collection_name=\"demo_collection\",\n",
    "    embedding=embedding_model,\n",
    ")"
   ]
  },
  {
   "cell_type": "code",
   "execution_count": 18,
   "metadata": {},
   "outputs": [
    {
     "data": {
      "text/plain": [
       "['34c8015847ed42d5b044422a54a6e949',\n",
       " '1d5404308b014962b5ff72c202897496',\n",
       " '1364bd14b8d4406a913e2db53f5b4ed1',\n",
       " '561918c1ecbd4469bdcae34a3c47b3a6',\n",
       " 'e97d7aeb7b6545b795a9116979e7f01a',\n",
       " '473e831e58ae438ba848ac7e30ec8711',\n",
       " '521ab2c7a937400bb66163e7f57575b7',\n",
       " '91e8ea2ba0c94114944e2ef75b5fb42d',\n",
       " '6895b98da7174891b154487ba3c071b3',\n",
       " '5f749923c308414e8352983b03fddd2f',\n",
       " '9ae3749d1c844886b8c61b572e074f69',\n",
       " '9bf10e2daa6845c9a575624f228d581b',\n",
       " 'd517cd42781d41caaabec3124f3afa0b']"
      ]
     },
     "execution_count": 18,
     "metadata": {},
     "output_type": "execute_result"
    }
   ],
   "source": [
    "vector_store.add_documents(splitted_doc)"
   ]
  },
  {
   "cell_type": "code",
   "execution_count": 21,
   "metadata": {},
   "outputs": [
    {
     "data": {
      "text/plain": [
       "([Record(id='00e1564af7744febb15d32453ea5d00f', payload={'page_content': '“EEA Agreement” means the Agreement on the European Economic Area (4) signed at Oporto\\non 2nd May 1992 as adjusted by the Protocol (5) signed at Brussels on 17th March 1993;\\n“EEA State” means a State which is a Contracting Party to the EEA Agreement;\\n“food authority” does not include—\\n(a) the council of a district in a non-metropolitan county except where the county functions\\nhave been transferred to that council pursuant to a structural change, or\\n(b) the appropriate Treasurer referred to in section 5(1)(c) of the Act (which deals with the\\nInner and the Middle Temple);\\n“the 1996 Regulations” means the Food Labelling Regulations 1996 (6);\\n“other edible substances” does not include vegetable fats referred to in regulation 3 or the\\nfilling of any product specified in column 2 of item 7 or of item 10(a) of Schedule 1;\\n“preparation” includes manufacture and any form of processing or treatment;\\n“reserved description”, as respects any designated product, means any description specified in', 'metadata': {'source': '../data/Regulaciones cacao y chocolate 2003.pdf', 'page': 1}}, vector=None, shard_key=None, order_value=None),\n",
       "  Record(id='028d6d1dcfc0406580ac6c3426fec4ce', payload={'page_content': 'Document Generated: 2023-04-24\\nStatus:  This is the original version (as it was originally made).\\nReserved descriptions\\n5.No person shall sell any food with a label, whether or not attached to or printed on the wrapper\\nor container, which bears, comprises or includes any reserved description or any derivative thereof\\nor any word or description substantially similar thereto unless—\\n(a)such food is the designated product to which the reserved description relates;\\n(b)such description, derivative or word is used in such a context as to indicate explicitly or by\\nclear implication that the substance to which it relates is only an ingredient of that food; or\\n(c)such description, derivative or word is used in such a context as to indicate explicitly or\\nby clear implication that such food is not and does not contain a designated product.\\nLabelling and description of designated products\\n6.—(1)  Without prejudice to the generality of Part II of the 1996 Regulations, no person shall', 'metadata': {'source': '../data/Regulaciones cacao y chocolate 2003.pdf', 'page': 2}}, vector=None, shard_key=None, order_value=None),\n",
       "  Record(id='02ebee23d735459c8008ce184f813516', payload={'page_content': 'sugars and milk or milk products which\\ncontains—\\n—not less than 20 per cent total dry cocoa\\nsolids;\\n—not less than 20 per cent dry milk solids\\nobtained by partly or wholly dehydrating\\nwhole milk, semi-skimmed or skimmed\\nmilk, cream, or from partly or wholly\\ndehydrated cream, butter or milk fat;\\n—not less than 2.5 per cent dry non-fat\\ncocoa solids;\\n—not less than 5 per cent milk fat;\\n9', 'metadata': {'source': '../data/Regulaciones cacao y chocolate 2003.pdf', 'page': 8}}, vector=None, shard_key=None, order_value=None)],\n",
       " '03dc220ddef54c69a3ad305e4008e180')"
      ]
     },
     "execution_count": 21,
     "metadata": {},
     "output_type": "execute_result"
    }
   ],
   "source": [
    "client.scroll(collection_name=\"demo_collection\", limit=3)"
   ]
  },
  {
   "cell_type": "markdown",
   "metadata": {},
   "source": [
    "# Dense search"
   ]
  },
  {
   "cell_type": "code",
   "execution_count": 23,
   "metadata": {},
   "outputs": [],
   "source": [
    "from langchain_qdrant import RetrievalMode\n",
    "\n",
    "qdrant = QdrantVectorStore.from_documents(\n",
    "    splitted_doc,\n",
    "    embedding=embedding_model,\n",
    "    location=\":memory:\",\n",
    "    collection_name=\"my_documents\",\n",
    "    retrieval_mode=RetrievalMode.DENSE,\n",
    ")\n",
    "\n",
    "query = \"What did the president say about Ketanji Brown Jackson\"\n",
    "found_docs = qdrant.similarity_search(query)"
   ]
  },
  {
   "cell_type": "code",
   "execution_count": 24,
   "metadata": {},
   "outputs": [
    {
     "data": {
      "text/plain": [
       "[Document(metadata={'source': '../data/Regulaciones cacao y chocolate 2003.pdf', 'page': 4, '_id': '06f68166c5ef46b4a1b8961866619faf', '_collection_name': 'my_documents'}, page_content='Document Generated: 2023-04-24\\nStatus:  This is the original version (as it was originally made).\\n(c)section 20 (offences due to fault of another person);\\n(d)section 21 (defence of due diligence) as it applies for the purposes of section 8, 14 or 15\\nof the Act;\\n(e)section 22 (defence of publication in the course of business);\\n(f)section 30(8) (which relates to documentary evidence);\\n(g)section 33(1) (obstruction etc. of officers);\\n(h)section 33(2), with the modification that the reference to “any such requirement as is\\nmentioned in subsection (1)(b) above”, shall be deemed to be a reference to any such\\nrequirement as is mentioned in that subsection as applied by sub-paragraph (g) above;\\n(i)section 35(1) (punishment of offences) in so far as it relates to offences under section 33(1)\\nas applied by sub-paragraph (g) above;\\n(j)section 35(2) and (3) in so far as it relates to offences under section 33(2) as applied by\\nsub-paragraph (h) above;\\n(k)section 36 (offences by bodies corporate); and\\n(l)section 44 (protection of officers acting in good faith).\\nAmendments and revocations\\n11.—(1)  In the 1996 Regulations (in so far as they apply to England) in regulation 4(2) (scope\\nof Part II) sub-paragraph (b) shall be omitted.\\n(2)  The following entries relating to the Cocoa and Chocolate Products Regulations 1976 (8) shall\\n(in so far as the following Regulations apply to England), be omitted—\\n(a)in the Food (Revision of Penalties) Regulations 1982 (9), in Schedule 1;\\n(b)in the Food (Revision of Penalties) Regulations 1985 (10), in Schedule 1, Part I;\\n(c)in the Food Safety Act 1990 (Consequential Modifications) (England and Wales) Order\\n1990 (11), in Schedule 1, Part I, Schedule 2, Schedule 3, Part I and Schedules 6 and 12;\\n(d)in the Food Safety (Exports) Regulations 1991 (12) in Schedule 1, Part I;\\n(e)in the Food (Forces Exemptions) (Revocations) Regulations 1992 (13), in Schedule 1, Part\\nI;\\n(f)in the Miscellaneous Food Additives Regulations 1995 (14), in Schedule 9;\\n(g)in the 1996 Regulations, in regulation 49(4)(a) and Schedule 9;\\n(h)in the Miscellaneous Food Additives (Amendment) Regulations 1999 (15), in\\nregulation 14(1);\\n(i)in the Miscellaneous Food Additives (Amendment) (England) (No. 2) Regulations\\n2001 (16), in regulation 9(2).\\n(8)S.I. 1976/541 ; relevant amending instruments S.I 1982/17 , 1982/1727 , 1985/67 , 1990/2486 , 1991/1476 , 1992/2596 ,\\n1995/3187 , 1996/1499 .\\n(9)S.I. 1982/1727  to which there are amendments not relevant to these Regulations.\\n(10)S.I. 1985/67  to which there are amendments not relevant to these Regulations.\\n(11)S.I. 1990/2486  to which there are amendments not relevant to these Regulations.\\n(12)S.I. 1991/1476  to which there are amendments not relevant to these Regulations.\\n(13)S.I. 1992/2596  to which there are amendments not relevant to these Regulations.\\n(14)S.I. 1995/3187 ; relevant amending instruments are S.I. 1997/1413 , 1999/1136, 2000/3323 , 2001/60  and 2001/3775 .\\n(15)S.I. 1999/1136.\\n(16)S.I. 2001/3775 .\\n5'),\n",
       " Document(metadata={'source': '../data/Regulaciones cacao y chocolate 2003.pdf', 'page': 5, '_id': '75f51098efa74793b9d874db5bd72d04', '_collection_name': 'my_documents'}, page_content='Document Generated: 2023-04-24\\nStatus:  This is the original version (as it was originally made).\\n(3)  In Schedule 9 to the Miscellaneous Food Additives Regulations 1995 (in so far as they\\napply to England) the entry relating to the Cocoa and Chocolate Products (Amendment) Regulations\\n1982 (17) shall be omitted.\\n(4)  In so far as the Regulations in which they appear apply to England, there shall be substituted\\nfor the following references to Directive 73/241/EEC (18), references to Directive 2000/36/EC (19)—\\n(a)in the Colourings in Food Regulations 1995 (20), in Schedule 2;\\n(b)in the Miscellaneous Food Additives Regulations 1995 (21), in Schedule 3 and in\\nSchedule 7.\\n(5)  The Cocoa and Chocolate Products Regulations 1976 and the Cocoa and Chocolate Products\\n(Amendment) Regulations 1982 are hereby revoked (in so far as they apply to England).\\nTransitional provision\\n12.In any proceedings for an offence under these Regulations it shall be a defence for the accused\\nto prove that—\\n(a)the food concerned was marked or labelled before 3rd August 2003, and\\n(b)the matters constituting the alleged offence would not have constituted an offence under\\nthe Cocoa and Chocolate Products Regulations 1976 as they stood immediately before the\\ndate of coming into force of these Regulations.\\nSigned by authority of the Secretary of State for Health\\n25th June 2003Melanie Johnson\\nParliamentary Under-Secretary of State,\\nDepartment of Health\\n(17)S.I. 1982/17 .\\n(18)OJ No. L228, 16.8.1973, p.23, as repealed with effect from 3rd August 2003 by Directive 2000/36/EC  (OJ No. L197, 3.8.2000,\\np.19).\\n(19)OJ No. L197, 3.8.2000, p.19.\\n(20)S.I. 1995/3124  to which there are amendments not relevant to these Regulations.\\n(21)S.I. 1995/3187 ; the relevant amending instrument is S.I. 1999/1136.\\n6'),\n",
       " Document(metadata={'source': '../data/Regulaciones cacao y chocolate 2003.pdf', 'page': 2, '_id': 'a2a959d2ab5448629b6acaf112be52ee', '_collection_name': 'my_documents'}, page_content='Document Generated: 2023-04-24\\nStatus:  This is the original version (as it was originally made).\\nReserved descriptions\\n5.No person shall sell any food with a label, whether or not attached to or printed on the wrapper\\nor container, which bears, comprises or includes any reserved description or any derivative thereof\\nor any word or description substantially similar thereto unless—\\n(a)such food is the designated product to which the reserved description relates;\\n(b)such description, derivative or word is used in such a context as to indicate explicitly or by\\nclear implication that the substance to which it relates is only an ingredient of that food; or\\n(c)such description, derivative or word is used in such a context as to indicate explicitly or\\nby clear implication that such food is not and does not contain a designated product.\\nLabelling and description of designated products\\n6.—(1)  Without prejudice to the generality of Part II of the 1996 Regulations, no person shall\\nsell any designated product unless it is marked or labelled with the following particulars—\\n(a)subject to paragraphs (2)(a) and (3) below, a reserved description of the product;\\n(b)subject to paragraph (2) of regulation 7, in the case of a designated chocolate product\\nwhich, pursuant to regulation 3, contains vegetable fats other than cocoa butter, the\\nconspicuous and clearly legible statement “contains vegetable fats in addition to cocoa\\nbutter”;\\n(c)where the words “milk chocolate” are used as the reserved description or a qualification\\nof the reserved description of a designated chocolate product, an accompanying indication\\nof the dry milk solids content in the form “milk solids … % minimum”, provided that—\\n(i)as regards a designated chocolate product specified in column 2 of item 4(a) of\\nSchedule 1, the dry milk solids content indicated is not less than 14 per cent; and\\n(ii)as regards a designated chocolate product specified in column 2 of item 5 of\\nSchedule 1, the dry milk solids content indicated is not less than 20 per cent;\\n(d)subject to paragraph (4) below, in the case of a designated product specified in column 2\\nof item 2(c), 2(d), 2(e), 3, 4, 5, 8 or 9 of Schedule 1, an indication of the total dry cocoa\\nsolids content in the form “cocoa solids … % minimum”;\\n(e)in the case of a designated cocoa product specified in column 2 of item 2(b) or 2(e), an\\nindication of the cocoa butter content.\\n(2)  Where designated chocolate products specified in column 2 of items 3, 4, 5, 6, 7 and 10 of\\nSchedule 1 are sold in an assortment—\\n(a)the reserved description may be replaced by “assorted chocolates” or “assorted filled\\nchocolates” or a similar name; and\\n(b)the list of ingredients with which food is required by the 1996 Regulations to be marked\\nor labelled may be a single list of ingredients for all the products in the assortment.\\n(3)  The reserved descriptions “chocolate”, “milk chocolate” and “couverture chocolate” may be\\nsupplemented by information or descriptions relating to quality criteria provided that the product\\ncontains —\\n(a)in the case of the reserved description “chocolate”, not less than 43 per cent total dry cocoa\\nsolids, including not less than 26 per cent cocoa butter;\\n(b)in the case of the reserved description “milk chocolate”, not less than 30 per cent total dry\\ncocoa solids and not less than 18 per cent dry milk solids obtained by partly or wholly\\ndehydrating whole milk, semi-skimmed or skimmed milk, cream, or from partly or wholly\\ndehydrated cream, butter or milk fat, including not less than 4.5 per cent milk fat;\\n3'),\n",
       " Document(metadata={'source': '../data/Regulaciones cacao y chocolate 2003.pdf', 'page': 0, '_id': '0d158ccb6a68464e95299dc966f8e83e', '_collection_name': 'my_documents'}, page_content='Status:  This is the original version (as it was originally made).\\nSTATUTORY INSTRUMENTS\\n2003 No. 1659\\nFOOD, ENGLAND\\nThe Cocoa and Chocolate Products (England) Regulations 2003\\nMade        -      -       -      - 25th June 2003\\nLaid before Parliament 3rd July 2003\\nComing into force       -      - 3rd August 2003\\nThe Secretary of State, in exercise of the powers conferred by sections 16(1)(e), 17(1), 26(1) and (3)\\nand 48(1) of the Food Safety Act 1990 (1) and now vested in him (2) and of all other powers enabling\\nhim in that behalf, having had regard in accordance with section 48(4A) of that Act to relevant\\nadvice given by the Food Standards Agency, and after consultation both as required by Article 9\\nof Regulation (EC) No. 178/2002  of the European Parliament and of the Council laying down the\\ngeneral principles and requirements of food law, establishing the European Food Safety Authority\\nand laying down procedures in matters of food safety (3) and in accordance with section 48(4) and\\n(4B) of that Act, hereby makes the following Regulations:\\nTitle, commencement and application\\n1.These Regulations may be cited as the Cocoa and Chocolate Products (England) Regulations\\n2003, shall come into force on 3rd August 2003 and shall apply to England only.\\nInterpretation\\n2.—(1)  In these Regulations—\\n“the Act” means the Food Safety Act 1990;\\n(1)1990 c. 16 .\\n(2)Functions formerly exercisable by “the Ministers” (being, in relation to England and Wales and acting jointly, the Minister\\nof Agriculture, Fisheries and Food and the Secretaries of State respectively concerned with health in England and food and\\nhealth in Wales and, in relation to Scotland, the Secretary of State) are now exercisable in relation to England by the Secretary\\nof State pursuant to paragraphs 7 and 8 of Schedule 5 to the Food Standards Act 1999 (c. 28) , and paragraphs 12 and 21 of\\nthat Schedule amend sections 17(1) and 48 of the 1990 Act. Functions of “the Ministers” so far as exercisable in relation\\nto Wales were transferred to the National Assembly for Wales by the National Assembly for Wales (Transfer of Functions)\\nOrder 1999 (S.I. 1999/672 ), as read with section 40(3) of the 1999 Act, and those functions so far as exercisable in relation to\\nScotland were transferred to the Scottish Ministers by section 53 of the Scotland Act 1998 (c. 46)  as read with section 40(2)\\nof the 1999 Act. Regulation 13(4) of the Food Standards Act 1999 (Transitional and Consequential Provisions and Savings)\\n(England and Wales) Regulations 2000 (S.I. 2000/656 ) expressly authorises the Secretary of State to amend or revoke existing\\nRegulations made or having effect as if made by the Minister of Agriculture, Fisheries and Food (whether with others or not)\\nunder the 1990 Act.\\n(3)OJ No. L31, 1.2.2002, p.1.')]"
      ]
     },
     "execution_count": 24,
     "metadata": {},
     "output_type": "execute_result"
    }
   ],
   "source": [
    "found_docs"
   ]
  },
  {
   "cell_type": "markdown",
   "metadata": {},
   "source": [
    "# Sparse Vector Search\n",
    "\n",
    "To search with only sparse vectors,\n",
    "\n",
    "The retrieval_mode parameter should be set to RetrievalMode.SPARSE.\n",
    "An implementation of the SparseEmbeddings interface using any sparse embeddings provider has to be provided as value to the sparse_embedding parameter.\n",
    "The langchain-qdrant package provides a FastEmbed based implementation out of the box."
   ]
  },
  {
   "cell_type": "code",
   "execution_count": 26,
   "metadata": {},
   "outputs": [
    {
     "name": "stderr",
     "output_type": "stream",
     "text": [
      "Fetching 29 files: 100%|██████████| 29/29 [00:00<?, ?it/s]\n"
     ]
    }
   ],
   "source": [
    "from langchain_qdrant import FastEmbedSparse, RetrievalMode\n",
    "\n",
    "sparse_embeddings = FastEmbedSparse(model_name=\"Qdrant/bm25\")\n",
    "\n",
    "qdrant = QdrantVectorStore.from_documents(\n",
    "    splitted_doc,\n",
    "    embedding=embedding_model,\n",
    "    sparse_embedding=sparse_embeddings,\n",
    "    location=\":memory:\",\n",
    "    collection_name=\"my_documents\",\n",
    "    retrieval_mode=RetrievalMode.SPARSE,\n",
    ")\n",
    "\n",
    "query = \"What did the president say about Ketanji Brown Jackson\"\n",
    "found_docs = qdrant.similarity_search(query)"
   ]
  },
  {
   "cell_type": "code",
   "execution_count": 27,
   "metadata": {},
   "outputs": [
    {
     "data": {
      "text/plain": [
       "[]"
      ]
     },
     "execution_count": 27,
     "metadata": {},
     "output_type": "execute_result"
    }
   ],
   "source": [
    "found_docs"
   ]
  },
  {
   "cell_type": "markdown",
   "metadata": {},
   "source": [
    "# Hybrid Search\n",
    "\n",
    "To perform a hybrid search using dense and sparse vectors with score fusion,\n",
    "\n",
    "The retrieval_mode parameter should be set to RetrievalMode.HYBRID.\n",
    "A dense embeddings value should be provided to the embedding parameter.\n",
    "An implementation of the SparseEmbeddings interface using any sparse embeddings provider has to be provided as value to the sparse_embedding parameter.\n",
    "Note that if you've added documents with the HYBRID mode, you can switch to any retrieval mode when searching. Since both the dense and sparse vectors are available in the collection."
   ]
  },
  {
   "cell_type": "code",
   "execution_count": 29,
   "metadata": {},
   "outputs": [
    {
     "name": "stderr",
     "output_type": "stream",
     "text": [
      "Fetching 29 files: 100%|██████████| 29/29 [00:00<?, ?it/s]\n"
     ]
    }
   ],
   "source": [
    "from langchain_qdrant import FastEmbedSparse, RetrievalMode\n",
    "\n",
    "sparse_embeddings = FastEmbedSparse(model_name=\"Qdrant/bm25\")\n",
    "\n",
    "qdrant = QdrantVectorStore.from_documents(\n",
    "    splitted_doc,\n",
    "    embedding=embedding_model,\n",
    "    sparse_embedding=sparse_embeddings,\n",
    "    location=\":memory:\",\n",
    "    collection_name=\"my_documents\",\n",
    "    retrieval_mode=RetrievalMode.HYBRID,\n",
    ")\n",
    "\n",
    "query = \"What did the president say about Ketanji Brown Jackson\"\n",
    "found_docs = qdrant.similarity_search(query)"
   ]
  },
  {
   "cell_type": "code",
   "execution_count": 30,
   "metadata": {},
   "outputs": [
    {
     "data": {
      "text/plain": [
       "[Document(metadata={'source': '../data/Regulaciones cacao y chocolate 2003.pdf', 'page': 4, '_id': '0bc76322de1b427b9933631bca239882', '_collection_name': 'my_documents'}, page_content='Document Generated: 2023-04-24\\nStatus:  This is the original version (as it was originally made).\\n(c)section 20 (offences due to fault of another person);\\n(d)section 21 (defence of due diligence) as it applies for the purposes of section 8, 14 or 15\\nof the Act;\\n(e)section 22 (defence of publication in the course of business);\\n(f)section 30(8) (which relates to documentary evidence);\\n(g)section 33(1) (obstruction etc. of officers);\\n(h)section 33(2), with the modification that the reference to “any such requirement as is\\nmentioned in subsection (1)(b) above”, shall be deemed to be a reference to any such\\nrequirement as is mentioned in that subsection as applied by sub-paragraph (g) above;\\n(i)section 35(1) (punishment of offences) in so far as it relates to offences under section 33(1)\\nas applied by sub-paragraph (g) above;\\n(j)section 35(2) and (3) in so far as it relates to offences under section 33(2) as applied by\\nsub-paragraph (h) above;\\n(k)section 36 (offences by bodies corporate); and\\n(l)section 44 (protection of officers acting in good faith).\\nAmendments and revocations\\n11.—(1)  In the 1996 Regulations (in so far as they apply to England) in regulation 4(2) (scope\\nof Part II) sub-paragraph (b) shall be omitted.\\n(2)  The following entries relating to the Cocoa and Chocolate Products Regulations 1976 (8) shall\\n(in so far as the following Regulations apply to England), be omitted—\\n(a)in the Food (Revision of Penalties) Regulations 1982 (9), in Schedule 1;\\n(b)in the Food (Revision of Penalties) Regulations 1985 (10), in Schedule 1, Part I;\\n(c)in the Food Safety Act 1990 (Consequential Modifications) (England and Wales) Order\\n1990 (11), in Schedule 1, Part I, Schedule 2, Schedule 3, Part I and Schedules 6 and 12;\\n(d)in the Food Safety (Exports) Regulations 1991 (12) in Schedule 1, Part I;\\n(e)in the Food (Forces Exemptions) (Revocations) Regulations 1992 (13), in Schedule 1, Part\\nI;\\n(f)in the Miscellaneous Food Additives Regulations 1995 (14), in Schedule 9;\\n(g)in the 1996 Regulations, in regulation 49(4)(a) and Schedule 9;\\n(h)in the Miscellaneous Food Additives (Amendment) Regulations 1999 (15), in\\nregulation 14(1);\\n(i)in the Miscellaneous Food Additives (Amendment) (England) (No. 2) Regulations\\n2001 (16), in regulation 9(2).\\n(8)S.I. 1976/541 ; relevant amending instruments S.I 1982/17 , 1982/1727 , 1985/67 , 1990/2486 , 1991/1476 , 1992/2596 ,\\n1995/3187 , 1996/1499 .\\n(9)S.I. 1982/1727  to which there are amendments not relevant to these Regulations.\\n(10)S.I. 1985/67  to which there are amendments not relevant to these Regulations.\\n(11)S.I. 1990/2486  to which there are amendments not relevant to these Regulations.\\n(12)S.I. 1991/1476  to which there are amendments not relevant to these Regulations.\\n(13)S.I. 1992/2596  to which there are amendments not relevant to these Regulations.\\n(14)S.I. 1995/3187 ; relevant amending instruments are S.I. 1997/1413 , 1999/1136, 2000/3323 , 2001/60  and 2001/3775 .\\n(15)S.I. 1999/1136.\\n(16)S.I. 2001/3775 .\\n5'),\n",
       " Document(metadata={'source': '../data/Regulaciones cacao y chocolate 2003.pdf', 'page': 5, '_id': '96eeaa650caa4427a1e60ea49067c070', '_collection_name': 'my_documents'}, page_content='Document Generated: 2023-04-24\\nStatus:  This is the original version (as it was originally made).\\n(3)  In Schedule 9 to the Miscellaneous Food Additives Regulations 1995 (in so far as they\\napply to England) the entry relating to the Cocoa and Chocolate Products (Amendment) Regulations\\n1982 (17) shall be omitted.\\n(4)  In so far as the Regulations in which they appear apply to England, there shall be substituted\\nfor the following references to Directive 73/241/EEC (18), references to Directive 2000/36/EC (19)—\\n(a)in the Colourings in Food Regulations 1995 (20), in Schedule 2;\\n(b)in the Miscellaneous Food Additives Regulations 1995 (21), in Schedule 3 and in\\nSchedule 7.\\n(5)  The Cocoa and Chocolate Products Regulations 1976 and the Cocoa and Chocolate Products\\n(Amendment) Regulations 1982 are hereby revoked (in so far as they apply to England).\\nTransitional provision\\n12.In any proceedings for an offence under these Regulations it shall be a defence for the accused\\nto prove that—\\n(a)the food concerned was marked or labelled before 3rd August 2003, and\\n(b)the matters constituting the alleged offence would not have constituted an offence under\\nthe Cocoa and Chocolate Products Regulations 1976 as they stood immediately before the\\ndate of coming into force of these Regulations.\\nSigned by authority of the Secretary of State for Health\\n25th June 2003Melanie Johnson\\nParliamentary Under-Secretary of State,\\nDepartment of Health\\n(17)S.I. 1982/17 .\\n(18)OJ No. L228, 16.8.1973, p.23, as repealed with effect from 3rd August 2003 by Directive 2000/36/EC  (OJ No. L197, 3.8.2000,\\np.19).\\n(19)OJ No. L197, 3.8.2000, p.19.\\n(20)S.I. 1995/3124  to which there are amendments not relevant to these Regulations.\\n(21)S.I. 1995/3187 ; the relevant amending instrument is S.I. 1999/1136.\\n6'),\n",
       " Document(metadata={'source': '../data/Regulaciones cacao y chocolate 2003.pdf', 'page': 2, '_id': 'c6c871c3d9ac482a952749691bcd45a7', '_collection_name': 'my_documents'}, page_content='Document Generated: 2023-04-24\\nStatus:  This is the original version (as it was originally made).\\nReserved descriptions\\n5.No person shall sell any food with a label, whether or not attached to or printed on the wrapper\\nor container, which bears, comprises or includes any reserved description or any derivative thereof\\nor any word or description substantially similar thereto unless—\\n(a)such food is the designated product to which the reserved description relates;\\n(b)such description, derivative or word is used in such a context as to indicate explicitly or by\\nclear implication that the substance to which it relates is only an ingredient of that food; or\\n(c)such description, derivative or word is used in such a context as to indicate explicitly or\\nby clear implication that such food is not and does not contain a designated product.\\nLabelling and description of designated products\\n6.—(1)  Without prejudice to the generality of Part II of the 1996 Regulations, no person shall\\nsell any designated product unless it is marked or labelled with the following particulars—\\n(a)subject to paragraphs (2)(a) and (3) below, a reserved description of the product;\\n(b)subject to paragraph (2) of regulation 7, in the case of a designated chocolate product\\nwhich, pursuant to regulation 3, contains vegetable fats other than cocoa butter, the\\nconspicuous and clearly legible statement “contains vegetable fats in addition to cocoa\\nbutter”;\\n(c)where the words “milk chocolate” are used as the reserved description or a qualification\\nof the reserved description of a designated chocolate product, an accompanying indication\\nof the dry milk solids content in the form “milk solids … % minimum”, provided that—\\n(i)as regards a designated chocolate product specified in column 2 of item 4(a) of\\nSchedule 1, the dry milk solids content indicated is not less than 14 per cent; and\\n(ii)as regards a designated chocolate product specified in column 2 of item 5 of\\nSchedule 1, the dry milk solids content indicated is not less than 20 per cent;\\n(d)subject to paragraph (4) below, in the case of a designated product specified in column 2\\nof item 2(c), 2(d), 2(e), 3, 4, 5, 8 or 9 of Schedule 1, an indication of the total dry cocoa\\nsolids content in the form “cocoa solids … % minimum”;\\n(e)in the case of a designated cocoa product specified in column 2 of item 2(b) or 2(e), an\\nindication of the cocoa butter content.\\n(2)  Where designated chocolate products specified in column 2 of items 3, 4, 5, 6, 7 and 10 of\\nSchedule 1 are sold in an assortment—\\n(a)the reserved description may be replaced by “assorted chocolates” or “assorted filled\\nchocolates” or a similar name; and\\n(b)the list of ingredients with which food is required by the 1996 Regulations to be marked\\nor labelled may be a single list of ingredients for all the products in the assortment.\\n(3)  The reserved descriptions “chocolate”, “milk chocolate” and “couverture chocolate” may be\\nsupplemented by information or descriptions relating to quality criteria provided that the product\\ncontains —\\n(a)in the case of the reserved description “chocolate”, not less than 43 per cent total dry cocoa\\nsolids, including not less than 26 per cent cocoa butter;\\n(b)in the case of the reserved description “milk chocolate”, not less than 30 per cent total dry\\ncocoa solids and not less than 18 per cent dry milk solids obtained by partly or wholly\\ndehydrating whole milk, semi-skimmed or skimmed milk, cream, or from partly or wholly\\ndehydrated cream, butter or milk fat, including not less than 4.5 per cent milk fat;\\n3'),\n",
       " Document(metadata={'source': '../data/Regulaciones cacao y chocolate 2003.pdf', 'page': 0, '_id': '09c15285d388419ebec86fdc5f8edaa2', '_collection_name': 'my_documents'}, page_content='Status:  This is the original version (as it was originally made).\\nSTATUTORY INSTRUMENTS\\n2003 No. 1659\\nFOOD, ENGLAND\\nThe Cocoa and Chocolate Products (England) Regulations 2003\\nMade        -      -       -      - 25th June 2003\\nLaid before Parliament 3rd July 2003\\nComing into force       -      - 3rd August 2003\\nThe Secretary of State, in exercise of the powers conferred by sections 16(1)(e), 17(1), 26(1) and (3)\\nand 48(1) of the Food Safety Act 1990 (1) and now vested in him (2) and of all other powers enabling\\nhim in that behalf, having had regard in accordance with section 48(4A) of that Act to relevant\\nadvice given by the Food Standards Agency, and after consultation both as required by Article 9\\nof Regulation (EC) No. 178/2002  of the European Parliament and of the Council laying down the\\ngeneral principles and requirements of food law, establishing the European Food Safety Authority\\nand laying down procedures in matters of food safety (3) and in accordance with section 48(4) and\\n(4B) of that Act, hereby makes the following Regulations:\\nTitle, commencement and application\\n1.These Regulations may be cited as the Cocoa and Chocolate Products (England) Regulations\\n2003, shall come into force on 3rd August 2003 and shall apply to England only.\\nInterpretation\\n2.—(1)  In these Regulations—\\n“the Act” means the Food Safety Act 1990;\\n(1)1990 c. 16 .\\n(2)Functions formerly exercisable by “the Ministers” (being, in relation to England and Wales and acting jointly, the Minister\\nof Agriculture, Fisheries and Food and the Secretaries of State respectively concerned with health in England and food and\\nhealth in Wales and, in relation to Scotland, the Secretary of State) are now exercisable in relation to England by the Secretary\\nof State pursuant to paragraphs 7 and 8 of Schedule 5 to the Food Standards Act 1999 (c. 28) , and paragraphs 12 and 21 of\\nthat Schedule amend sections 17(1) and 48 of the 1990 Act. Functions of “the Ministers” so far as exercisable in relation\\nto Wales were transferred to the National Assembly for Wales by the National Assembly for Wales (Transfer of Functions)\\nOrder 1999 (S.I. 1999/672 ), as read with section 40(3) of the 1999 Act, and those functions so far as exercisable in relation to\\nScotland were transferred to the Scottish Ministers by section 53 of the Scotland Act 1998 (c. 46)  as read with section 40(2)\\nof the 1999 Act. Regulation 13(4) of the Food Standards Act 1999 (Transitional and Consequential Provisions and Savings)\\n(England and Wales) Regulations 2000 (S.I. 2000/656 ) expressly authorises the Secretary of State to amend or revoke existing\\nRegulations made or having effect as if made by the Minister of Agriculture, Fisheries and Food (whether with others or not)\\nunder the 1990 Act.\\n(3)OJ No. L31, 1.2.2002, p.1.')]"
      ]
     },
     "execution_count": 30,
     "metadata": {},
     "output_type": "execute_result"
    }
   ],
   "source": [
    "found_docs"
   ]
  },
  {
   "cell_type": "code",
   "execution_count": 31,
   "metadata": {},
   "outputs": [
    {
     "name": "stdout",
     "output_type": "stream",
     "text": [
      "* [SIM=0.024672] dehydrating whole milk, semi-skimmed\n",
      "or skimmed milk, cream, or from partly\n",
      "or wholly dehydrated cream, butter or\n",
      "milk fat and (2) from finely ground\n",
      "hazelnuts in such quantities that 100\n",
      "grams of the product contain not less than\n",
      "15 grams and not more than 40 grams of\n",
      "hazelnuts; and to which may have been\n",
      "added almonds, hazelnuts and other nut\n",
      "varieties, either whole or broken, in such\n",
      "quantities that, together with the ground\n",
      "hazelnuts, they do not exceed 60 per cent\n",
      "of the total weight of the product.\n",
      "(c) (c)  If “Milk” is replaced by— (c) (c) \n",
      "(i)“cream” (i)The product containing a minimum milk\n",
      "fat content of 5.5 per cent.\n",
      "(ii)“skimmed milk” (ii)The product containing a milk fat content\n",
      "not greater than 1 per cent.\n",
      "5.Family milk chocolate or Milk chocolate The product obtained from cocoa products,\n",
      "sugars and milk or milk products which\n",
      "contains—\n",
      "—not less than 20 per cent total dry cocoa\n",
      "solids;\n",
      "—not less than 20 per cent dry milk solids\n",
      "obtained by partly or wholly dehydrating [{'source': '../data/Regulaciones cacao y chocolate 2003.pdf', 'page': 8, '_id': '540fc508a0234f4cabd4703674eeef1a', '_collection_name': 'demo_collection'}]\n"
     ]
    }
   ],
   "source": [
    "#If you want to execute a similarity search and receive the corresponding scores you can run:\n",
    "results = vector_store.similarity_search_with_score(\n",
    "    query=\"Will it be hot tomorrow\", k=1\n",
    ")\n",
    "for doc, score in results:\n",
    "    print(f\"* [SIM={score:3f}] {doc.page_content} [{doc.metadata}]\")"
   ]
  },
  {
   "cell_type": "markdown",
   "metadata": {},
   "source": [
    "# Metadata filtering"
   ]
  },
  {
   "cell_type": "code",
   "execution_count": 32,
   "metadata": {},
   "outputs": [],
   "source": [
    "from qdrant_client.http import models\n",
    "\n",
    "results = vector_store.similarity_search(\n",
    "    query=\"Who are the best soccer players in the world?\",\n",
    "    k=1,\n",
    "    filter=models.Filter(\n",
    "        should=[\n",
    "            models.FieldCondition(\n",
    "                key=\"page_content\",\n",
    "                match=models.MatchValue(\n",
    "                    value=\"The top 10 soccer players in the world right now.\"\n",
    "                ),\n",
    "            ),\n",
    "        ]\n",
    "    ),\n",
    ")\n",
    "for doc in results:\n",
    "    print(f\"* {doc.page_content} [{doc.metadata}]\")"
   ]
  },
  {
   "cell_type": "markdown",
   "metadata": {},
   "source": [
    "## Query by turning into a retriever"
   ]
  },
  {
   "cell_type": "code",
   "execution_count": 33,
   "metadata": {},
   "outputs": [
    {
     "data": {
      "text/plain": [
       "[Document(metadata={'source': '../data/Regulaciones cacao y chocolate 2003.pdf', 'page': 4, '_id': 'e97d7aeb7b6545b795a9116979e7f01a', '_collection_name': 'demo_collection'}, page_content='Document Generated: 2023-04-24\\nStatus:  This is the original version (as it was originally made).\\n(c)section 20 (offences due to fault of another person);\\n(d)section 21 (defence of due diligence) as it applies for the purposes of section 8, 14 or 15\\nof the Act;\\n(e)section 22 (defence of publication in the course of business);\\n(f)section 30(8) (which relates to documentary evidence);\\n(g)section 33(1) (obstruction etc. of officers);\\n(h)section 33(2), with the modification that the reference to “any such requirement as is\\nmentioned in subsection (1)(b) above”, shall be deemed to be a reference to any such\\nrequirement as is mentioned in that subsection as applied by sub-paragraph (g) above;\\n(i)section 35(1) (punishment of offences) in so far as it relates to offences under section 33(1)\\nas applied by sub-paragraph (g) above;\\n(j)section 35(2) and (3) in so far as it relates to offences under section 33(2) as applied by\\nsub-paragraph (h) above;\\n(k)section 36 (offences by bodies corporate); and\\n(l)section 44 (protection of officers acting in good faith).\\nAmendments and revocations\\n11.—(1)  In the 1996 Regulations (in so far as they apply to England) in regulation 4(2) (scope\\nof Part II) sub-paragraph (b) shall be omitted.\\n(2)  The following entries relating to the Cocoa and Chocolate Products Regulations 1976 (8) shall\\n(in so far as the following Regulations apply to England), be omitted—\\n(a)in the Food (Revision of Penalties) Regulations 1982 (9), in Schedule 1;\\n(b)in the Food (Revision of Penalties) Regulations 1985 (10), in Schedule 1, Part I;\\n(c)in the Food Safety Act 1990 (Consequential Modifications) (England and Wales) Order\\n1990 (11), in Schedule 1, Part I, Schedule 2, Schedule 3, Part I and Schedules 6 and 12;\\n(d)in the Food Safety (Exports) Regulations 1991 (12) in Schedule 1, Part I;\\n(e)in the Food (Forces Exemptions) (Revocations) Regulations 1992 (13), in Schedule 1, Part\\nI;\\n(f)in the Miscellaneous Food Additives Regulations 1995 (14), in Schedule 9;\\n(g)in the 1996 Regulations, in regulation 49(4)(a) and Schedule 9;\\n(h)in the Miscellaneous Food Additives (Amendment) Regulations 1999 (15), in\\nregulation 14(1);\\n(i)in the Miscellaneous Food Additives (Amendment) (England) (No. 2) Regulations\\n2001 (16), in regulation 9(2).\\n(8)S.I. 1976/541 ; relevant amending instruments S.I 1982/17 , 1982/1727 , 1985/67 , 1990/2486 , 1991/1476 , 1992/2596 ,\\n1995/3187 , 1996/1499 .\\n(9)S.I. 1982/1727  to which there are amendments not relevant to these Regulations.\\n(10)S.I. 1985/67  to which there are amendments not relevant to these Regulations.\\n(11)S.I. 1990/2486  to which there are amendments not relevant to these Regulations.\\n(12)S.I. 1991/1476  to which there are amendments not relevant to these Regulations.\\n(13)S.I. 1992/2596  to which there are amendments not relevant to these Regulations.\\n(14)S.I. 1995/3187 ; relevant amending instruments are S.I. 1997/1413 , 1999/1136, 2000/3323 , 2001/60  and 2001/3775 .\\n(15)S.I. 1999/1136.\\n(16)S.I. 2001/3775 .\\n5')]"
      ]
     },
     "execution_count": 33,
     "metadata": {},
     "output_type": "execute_result"
    }
   ],
   "source": [
    "retriever = vector_store.as_retriever(search_type=\"mmr\", search_kwargs={\"k\": 1})\n",
    "retriever.invoke(\"Stealing from the bank is a crime\")"
   ]
  },
  {
   "cell_type": "code",
   "execution_count": 8,
   "metadata": {},
   "outputs": [],
   "source": [
    "from langchain_ollama import OllamaLLM\n",
    "\n",
    "llm = OllamaLLM(model=\"llama3.1\")"
   ]
  },
  {
   "cell_type": "code",
   "execution_count": 7,
   "metadata": {},
   "outputs": [],
   "source": [
    "from langchain_huggingface import HuggingFaceEmbeddings\n",
    "\n",
    "embedding_model = HuggingFaceEmbeddings(model_name=\"sentence-transformers/all-mpnet-base-v2\")\n",
    "embedded_document = embedding_model.embed_query(splits[0].page_content)\n",
    "embedded_document[:3]"
   ]
  },
  {
   "cell_type": "code",
   "execution_count": 9,
   "metadata": {},
   "outputs": [
    {
     "name": "stderr",
     "output_type": "stream",
     "text": [
      "f:\\repositorios\\rag-course\\.venv\\Lib\\site-packages\\langsmith\\client.py:5430: LangChainBetaWarning: The function `loads` is in beta. It is actively being worked on, so the API may change.\n",
      "  prompt = loads(json.dumps(prompt_object.manifest))\n"
     ]
    }
   ],
   "source": [
    "# Retrieve and generate using the relevant snippets of the blog.\n",
    "retriever = vectorstore.as_retriever()\n",
    "prompt = hub.pull(\"rlm/rag-prompt\")"
   ]
  },
  {
   "cell_type": "code",
   "execution_count": 12,
   "metadata": {},
   "outputs": [
    {
     "data": {
      "text/plain": [
       "\"Based on the provided text, it appears that you are asking about a specific part of the regulations regarding food labeling. However, I don't see any question being asked. Could you please provide the actual question or problem you need help with? If not, I'll do my best to summarize and highlight key points from the given regulations.\\n\\nThe provided text seems to be an excerpt from UK legislation (the Cocoa and Chocolate Products (England) Regulations 2003), which outlines specific requirements for labeling cocoa and chocolate products. Key takeaways include:\\n\\n1. **Labeling Requirements**: Specific details about ingredients, reserved descriptions, and their corresponding designations are outlined.\\n2. **Offenses and Penalties**: Failure to comply with regulations can lead to offenses punishable by fines.\\n3. **Defence in Relation to Exports**: A defense is allowed for exports under certain conditions.\\n4. **Application of Provisions of the Food Safety Act 1990**: Certain sections of the Food Safety Act are applied with modifications.\\n\\nIf you have a specific question about these regulations or their application, please feel free to ask.\""
      ]
     },
     "execution_count": 12,
     "metadata": {},
     "output_type": "execute_result"
    }
   ],
   "source": [
    "def format_docs(docs):\n",
    "    return \"\\n\\n\".join(doc.page_content for doc in docs)\n",
    "\n",
    "\n",
    "rag_chain = (\n",
    "    {\"context\": retriever | format_docs, \"question\": RunnablePassthrough()}\n",
    "    | prompt\n",
    "    | llm\n",
    "    | StrOutputParser()\n",
    ")\n",
    "\n",
    "rag_chain.invoke(\"Can you tell me what are the regulations about cacao and chocolate in 2003?\")"
   ]
  },
  {
   "cell_type": "markdown",
   "metadata": {},
   "source": []
  }
 ],
 "metadata": {
  "kernelspec": {
   "display_name": ".venv",
   "language": "python",
   "name": "python3"
  },
  "language_info": {
   "codemirror_mode": {
    "name": "ipython",
    "version": 3
   },
   "file_extension": ".py",
   "mimetype": "text/x-python",
   "name": "python",
   "nbconvert_exporter": "python",
   "pygments_lexer": "ipython3",
   "version": "3.11.5"
  }
 },
 "nbformat": 4,
 "nbformat_minor": 2
}
