{
 "cells": [
  {
   "cell_type": "code",
   "execution_count": null,
   "metadata": {},
   "outputs": [],
   "source": []
  },
  {
   "cell_type": "markdown",
   "metadata": {},
   "source": [
    "# Lesson 5: Reranking Retrieved Documents\n",
    "\n",
    "**Objective**: Enhance the relevance of retrieved documents to improve the quality of generated responses.\n",
    "\n",
    "**Topics**:\n",
    "- Reranking techniques: monoT5, monoBERT, RankLLaMA, TILDEv2, Cohere ReRanker\n",
    "- Trade-offs between speed and accuracy\n",
    "\n",
    "**Practical Task**: Implement a reranking model and evaluate its impact on retrieval performance.\n",
    "\n",
    "**Resources**:\n",
    "- Cohere reranker\n",
    "- Open-source alternative\n"
   ]
  },
  {
   "cell_type": "markdown",
   "metadata": {},
   "source": []
  }
 ],
 "metadata": {
  "language_info": {
   "name": "python"
  }
 },
 "nbformat": 4,
 "nbformat_minor": 2
}
