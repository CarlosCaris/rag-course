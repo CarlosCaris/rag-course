{
 "cells": [
  {
   "cell_type": "code",
   "execution_count": null,
   "metadata": {},
   "outputs": [],
   "source": []
  },
  {
   "cell_type": "markdown",
   "metadata": {},
   "source": [
    "# Lesson 3: Embedding Models for Retrieval\n",
    "\n",
    "**Objective**: Understand the role of embeddings in representing document chunks for retrieval.\n",
    "\n",
    "**Topics**:\n",
    "- Overview of embedding models: LLM-Embedder, BAAI/bge, etc.\n",
    "- Selecting the right embedding model\n",
    "- Integrating embeddings into the retrieval pipeline\n",
    "\n",
    "**Practical Task**: Implement and test embedding models on the chunked documents.\n",
    "\n",
    "**Resources**:\n",
    "- Choosing and embedding model\n",
    "- How to select an embedding model\n"
   ]
  },
  {
   "cell_type": "markdown",
   "metadata": {},
   "source": []
  }
 ],
 "metadata": {
  "language_info": {
   "name": "python"
  }
 },
 "nbformat": 4,
 "nbformat_minor": 2
}
