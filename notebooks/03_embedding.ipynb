{
 "cells": [
  {
   "cell_type": "markdown",
   "metadata": {},
   "source": [
    "# Lesson 3: Embedding Models for Retrieval\n",
    "\n",
    "**Objective**: Understand the role of embeddings in representing document chunks for retrieval.\n",
    "\n",
    "**Topics**:\n",
    "- Overview of embedding models: LLM-Embedder, BAAI/bge, etc.\n",
    "- Selecting the right embedding model\n",
    "- Integrating embeddings into the retrieval pipeline\n",
    "\n",
    "**Practical Task**: Implement and test embedding models on the chunked documents.\n",
    "\n",
    "**Resources**:\n",
    "- Choosing and embedding model\n",
    "- How to select an embedding model\n",
    "- [Mastering RAG: How to Select an Embedding Model](https://www.rungalileo.io/blog/mastering-rag-how-to-select-an-embedding-model#:~:text=Embeddings%20encode%20the%20semantics%20of,efficient%20and%20user%20friendly%20experience.)\n",
    "- [Vector Embeddings in RAG Applications](https://wandb.ai/mostafaibrahim17/ml-articles/reports/Vector-Embeddings-in-RAG-Applications--Vmlldzo3OTk1NDA5)\n",
    "- [Vector Embeddings in RAG Applications](https://medium.com/thedeephub/vector-embeddings-in-rag-applications-9ea8043c172b)\n",
    "- [Embeddings leaderboard](https://huggingface.co/spaces/mteb/leaderboard)\n"
   ]
  },
  {
   "cell_type": "markdown",
   "metadata": {},
   "source": [
    "## Load the datasets"
   ]
  },
  {
   "cell_type": "code",
   "execution_count": 1,
   "metadata": {},
   "outputs": [],
   "source": [
    "from langchain_community.document_loaders import PDFMinerLoader\n",
    "\n",
    "file_path = \"../data/Regulaciones cacao y chocolate 2003.pdf\"\n",
    "loader = PDFMinerLoader(file_path)\n",
    "splitted_doc = loader.load_and_split()"
   ]
  },
  {
   "cell_type": "code",
   "execution_count": 2,
   "metadata": {},
   "outputs": [
    {
     "data": {
      "text/plain": [
       "[Document(metadata={'source': '../data/Regulaciones cacao y chocolate 2003.pdf'}, page_content='Status:  This is the original version (as it was originally made).\\n\\nSTATUTORY INSTRUMENTS\\n\\n2003 No. 1659\\n\\nFOOD, ENGLAND\\n\\nThe Cocoa and Chocolate Products (England) Regulations 2003\\n\\nMade       -      -      -      -\\n\\nLaid before Parliament \\n\\n25th June 2003\\n\\n3rd July 2003\\n\\nComing into force       -      -\\n\\n3rd August 2003\\n\\nThe Secretary of State, in exercise of the powers conferred by sections 16(1)(e), 17(1), 26(1) and (3)\\nand 48(1) of the Food Safety Act 1990(1) and now vested in him(2) and of all other powers enabling\\nhim  in  that  behalf,  having  had  regard  in  accordance  with  section  48(4A)  of  that  Act  to  relevant\\nadvice given by the Food Standards Agency, and after consultation both as required by Article 9\\nof Regulation (EC) No. 178/2002 of the European Parliament and of the Council laying down the\\ngeneral principles and requirements of food law, establishing the European Food Safety Authority\\nand laying down procedures in matters of food safety(3) and in accordance with section 48(4) and\\n(4B) of that Act, hereby makes the following Regulations:\\n\\nTitle, commencement and application\\n\\n1. These Regulations may be cited as the Cocoa and Chocolate Products (England) Regulations\\n\\n2003, shall come into force on 3rd August 2003 and shall apply to England only.\\n\\nInterpretation\\n\\n2.—(1)  In these Regulations—\\n\\n“the Act” means the Food Safety Act 1990;\\n\\n1990 c. 16.\\n\\n(1)\\n(2) Functions formerly exercisable by “the Ministers” (being, in relation to England and Wales and acting jointly, the Minister\\nof Agriculture, Fisheries and Food and the Secretaries of State respectively concerned with health in England and food and\\nhealth in Wales and, in relation to Scotland, the Secretary of State) are now exercisable in relation to England by the Secretary\\nof State pursuant to paragraphs 7 and 8 of Schedule 5 to the Food Standards Act 1999 (c. 28), and paragraphs 12 and 21 of\\nthat Schedule amend sections 17(1) and 48 of the 1990 Act. Functions of “the Ministers” so far as exercisable in relation\\nto Wales were transferred to the National Assembly for Wales by the National Assembly for Wales (Transfer of Functions)\\nOrder 1999 (S.I.1999/672), as read with section 40(3) of the 1999 Act, and those functions so far as exercisable in relation to\\nScotland were transferred to the Scottish Ministers by section 53 of the Scotland Act 1998 (c. 46) as read with section 40(2)\\nof the 1999 Act. Regulation 13(4) of the Food Standards Act 1999 (Transitional and Consequential Provisions and Savings)\\n(England and Wales) Regulations 2000 (S.I. 2000/656) expressly authorises the Secretary of State to amend or revoke existing\\nRegulations made or having effect as if made by the Minister of Agriculture, Fisheries and Food (whether with others or not)\\nunder the 1990 Act.\\n(3) OJ No. L31, 1.2.2002, p.1.\\n\\n\\x0cStatus:  This is the original version (as it was originally made).\\n\\nDocument Generated: 2023-04-24\\n\\n“catering establishment” means a restaurant, canteen, club, public house, school, hospital or\\nsimilar establishment (including a vehicle or a fixed or mobile stall) where, in the course of a\\nbusiness, food is prepared for delivery to the ultimate consumer and is ready for consumption\\nwithout further preparation;\\n\\n“designated  product”  means  any  cocoa  or  chocolate  product  specified  in  column  2  of\\nSchedule  1,  as  read  with  any  Note  to  that  Schedule  and  any  provision  of  regulation  3  and\\nSchedule 2 relating to that product; and “designated chocolate product” and “designated cocoa\\nproduct” mean any such product which is respectively a chocolate product or a cocoa product;\\n\\n“EEA Agreement” means the Agreement on the European Economic Area(4) signed at Oporto\\non 2nd May 1992 as adjusted by the Protocol(5) signed at Brussels on 17th March 1993;\\n\\n“EEA State” means a State which is a Contracting Party to the EEA Agreement;\\n\\n“food authority” does not include—\\n\\n(a)\\n\\n(b)'),\n",
       " Document(metadata={'source': '../data/Regulaciones cacao y chocolate 2003.pdf'}, page_content='“EEA State” means a State which is a Contracting Party to the EEA Agreement;\\n\\n“food authority” does not include—\\n\\n(a)\\n\\n(b)\\n\\nthe council of a district in a non-metropolitan county except where the county functions\\nhave been transferred to that council pursuant to a structural change, or\\n\\nthe appropriate Treasurer referred to in section 5(1)(c) of the Act (which deals with the\\nInner and the Middle Temple);\\n\\n“the 1996 Regulations” means the Food Labelling Regulations 1996(6);\\n\\n“other  edible  substances”  does  not  include  vegetable  fats  referred  to  in  regulation  3  or  the\\nfilling of any product specified in column 2 of item 7 or of item 10(a) of Schedule 1;\\n\\n“preparation” includes manufacture and any form of processing or treatment;\\n\\n“reserved description”, as respects any designated product, means any description specified in\\nrelation to that product in column 1 of Schedule 1;\\n\\n“sell”  includes  offer  or  expose  for  sale  or  have  in  possession  for  sale,  and  “sale”  shall  be\\nconstrued accordingly; and\\n\\n“ultimate consumer” means any person who buys otherwise than—\\n\\n(a)\\n\\n(b)\\n\\n(c)\\n\\nfor the purpose of resale,\\n\\nfor the purposes of a catering establishment, or\\n\\nfor the purposes of a manufacturing business.\\n\\n(2)  Any reference in these Regulations to a numbered regulation or Schedule shall be construed\\n\\nas a reference to the regulation or Schedule bearing that number in these Regulations.\\n\\nVegetable fats in chocolate products\\n\\n3.—(1)  Subject to paragraph (2) below, the vegetable fats, other than cocoa butter, specified in\\nSchedule 2 may be added to those designated chocolate products specified in column 2 of items 3,\\n4, 5, 6, 8 and 9 of Schedule 1.\\n\\n(2)  An addition in accordance with paragraph 1 may not exceed 5 per cent of the finished product,\\nafter deduction of the total weight of any other edible substances used in accordance with the Note 1\\nto Schedule 1, without reducing the minimum content of cocoa butter or total dry cocoa solids.\\n\\nScope of Regulations\\n\\n4. These Regulations apply to designated products intended for human consumption and ready\\n\\nfor delivery to the ultimate consumer or to a catering establishment.\\n\\n(4) OJ No. L1, 3.1.94, p.1.\\n(5) OJ No. L1, 3.1.94, p.571.\\n(6) S.I. 1996/1499, the relevant amending instrument is S.I. 1998/1398.\\n\\n2\\n\\n\\x0cDocument Generated: 2023-04-24\\n\\nStatus:  This is the original version (as it was originally made).\\n\\nReserved descriptions\\n\\n5. No person shall sell any food with a label, whether or not attached to or printed on the wrapper\\nor container, which bears, comprises or includes any reserved description or any derivative thereof\\nor any word or description substantially similar thereto unless—\\n\\n(a) such food is the designated product to which the reserved description relates;\\n\\n(b) such description, derivative or word is used in such a context as to indicate explicitly or by\\nclear implication that the substance to which it relates is only an ingredient of that food; or\\n\\n(c) such description, derivative or word is used in such a context as to indicate explicitly or\\nby clear implication that such food is not and does not contain a designated product.\\n\\nLabelling and description of designated products\\n\\n6.—(1)  Without prejudice to the generality of Part II of the 1996 Regulations, no person shall\\n\\nsell any designated product unless it is marked or labelled with the following particulars—\\n\\n(a) subject to paragraphs (2)(a) and (3) below, a reserved description of the product;\\n\\n(b) subject  to  paragraph  (2)  of  regulation  7,  in  the  case  of  a  designated  chocolate  product\\nwhich,  pursuant  to  regulation  3,  contains  vegetable  fats  other  than  cocoa  butter,  the\\nconspicuous and clearly legible statement “contains vegetable fats in addition to cocoa\\nbutter”;'),\n",
       " Document(metadata={'source': '../data/Regulaciones cacao y chocolate 2003.pdf'}, page_content='(c) where the words “milk chocolate” are used as the reserved description or a qualification\\nof the reserved description of a designated chocolate product, an accompanying indication\\nof the dry milk solids content in the form “milk solids … % minimum”, provided that—\\n\\n(i) as  regards  a  designated  chocolate  product  specified  in  column  2  of  item  4(a)  of\\nSchedule 1, the dry milk solids content indicated is not less than 14 per cent; and\\n\\n(ii) as  regards  a  designated  chocolate  product  specified  in  column  2  of  item  5  of\\n\\nSchedule 1, the dry milk solids content indicated is not less than 20 per cent;\\n\\n(d) subject to paragraph (4) below, in the case of a designated product specified in column 2\\nof item 2(c), 2(d), 2(e), 3, 4, 5, 8 or 9 of Schedule 1, an indication of the total dry cocoa\\nsolids content in the form “cocoa solids … % minimum”;\\n\\n(e) in the case of a designated cocoa product specified in column 2 of item 2(b) or 2(e), an\\n\\nindication of the cocoa butter content.\\n\\n(2)  Where designated chocolate products specified in column 2 of items 3, 4, 5, 6, 7 and 10 of\\n\\nSchedule 1 are sold in an assortment—\\n\\n(a) the  reserved  description  may  be  replaced  by  “assorted  chocolates”  or  “assorted  filled\\n\\nchocolates” or a similar name; and\\n\\n(b) the list of ingredients with which food is required by the 1996 Regulations to be marked\\nor labelled may be a single list of ingredients for all the products in the assortment.\\n\\n(3)  The reserved descriptions “chocolate”, “milk chocolate” and “couverture chocolate” may be\\nsupplemented by information or descriptions relating to quality criteria provided that the product\\ncontains —\\n\\n(a) in the case of the reserved description “chocolate”, not less than 43 per cent total dry cocoa\\n\\nsolids, including not less than 26 per cent cocoa butter;\\n\\n(b) in the case of the reserved description “milk chocolate”, not less than 30 per cent total dry\\ncocoa solids and not less than 18 per cent dry milk solids obtained by partly or wholly\\ndehydrating whole milk, semi-skimmed or skimmed milk, cream, or from partly or wholly\\ndehydrated cream, butter or milk fat, including not less than 4.5 per cent milk fat;\\n\\n3\\n\\n\\x0cStatus:  This is the original version (as it was originally made).\\n\\nDocument Generated: 2023-04-24\\n\\n(c) in the case of the reserved description “couverture chocolate”, not less than 16 per cent\\n\\ndry non-fat cocoa solids.\\n\\n(4)  The total dry cocoa solids content with which a designated product is required by paragraph (1)\\n(d) above to be marked or labelled shall be calculated after deduction of the weight of other edible\\nsubstances provided for in Note 1 to Schedule 1 but not the weight of any ingredient specified in\\ncolumn 2 of Schedule 1 as an ingredient of that product or of any vegetable fat added in accordance\\nwith regulation 3.\\n\\nManner of marking or labelling\\n\\n7.—(1)  Regulations 35, 36(1) and (5) and 38 of the 1996 Regulations (which relate to the manner\\nof marking or labelling of food) shall apply to the particulars with which a designated product is\\nrequired to be marked or labelled by regulation 6 of these Regulations as if they were particulars\\nwith which food is required to be marked or labelled by the 1996 Regulations.\\n\\n(2)    The  information  with  which  a  designated  chocolate  product  is  required  to  be  marked  or\\n\\nlabelled by paragraph (1)(b) of regulation 6 shall be—\\n\\n(a) in the same field of vision as the list of ingredients with which the product is required by\\n\\nthe1996 Regulations to be marked or labelled;\\n\\n(b) clearly separated from that list;\\n\\n(c) in bold lettering no less large than that of the list; and\\n\\n(d) located near the reserved description, which may also appear elsewhere on the marking\\n\\nor labelling.\\n\\nPenalties and enforcement'),\n",
       " Document(metadata={'source': '../data/Regulaciones cacao y chocolate 2003.pdf'}, page_content='(c) in bold lettering no less large than that of the list; and\\n\\n(d) located near the reserved description, which may also appear elsewhere on the marking\\n\\nor labelling.\\n\\nPenalties and enforcement\\n\\n8.—(1)  If any person contravenes or fails to comply with any provision of regulation 5 or 6 he\\nshall be guilty of an offence and shall be liable on summary conviction to a fine not exceeding level\\n5 on the standard scale.\\n\\n(2)  Each food authority shall enforce and execute these Regulations in its area.\\n\\nDefence in relation to exports\\n\\n9. In any proceedings for an offence under these Regulations it shall be a defence for the person\\n\\naccused to prove—\\n\\n(a) that  the  food  in  respect  of  which  the  offence  is  alleged  to  have  been  committed  was\\nintended for export to a country which has legislation analogous to these Regulations and\\nthat the food complies with that legislation; and\\n\\n(b) in the case of export to an EEA State, that the legislation complies with the provisions of\\nDirective 2000/36/EC of the European Parliament and the Council relating to cocoa and\\nchocolate products intended for human consumption(7).\\n\\nApplication of various provisions of the Food Safety Act 1990\\n\\n10. The following provisions of the Act shall apply for the purposes of these Regulations with\\nthe modification that any reference in those provisions to the Act or Part thereof shall be construed\\nfor the purposes of these Regulations as a reference to these Regulations—\\n\\n(a) section 2 (extended meaning of sale etc.);\\n\\n(b) section 3 (presumptions that food is intended for human consumption);\\n\\n(7) OJ No. L197, 3.8.2000. p. 19, as adopted by EEA Joint Committee Decision 152/2001 (OJ No. L65, 7.3.2002, p. 26).\\n\\n4\\n\\n\\x0cDocument Generated: 2023-04-24\\n\\nStatus:  This is the original version (as it was originally made).\\n\\n(c) section 20 (offences due to fault of another person);\\n\\n(d) section 21 (defence of due diligence) as it applies for the purposes of section 8, 14 or 15\\n\\nof the Act;\\n\\n(e) section 22 (defence of publication in the course of business);\\n\\n(f) section 30(8) (which relates to documentary evidence);\\n\\n(g) section 33(1) (obstruction etc. of officers);\\n\\n(h) section  33(2),  with  the  modification  that  the  reference  to  “any  such  requirement  as  is\\nmentioned  in  subsection  (1)(b)  above”,  shall  be  deemed  to  be  a  reference  to  any  such\\nrequirement as is mentioned in that subsection as applied by sub-paragraph (g) above;\\n\\n(i) section 35(1) (punishment of offences) in so far as it relates to offences under section 33(1)\\n\\nas applied by sub-paragraph (g) above;\\n\\n(j) section 35(2) and (3) in so far as it relates to offences under section 33(2) as applied by\\n\\nsub-paragraph (h) above;\\n\\n(k) section 36 (offences by bodies corporate); and\\n\\n(l) section 44 (protection of officers acting in good faith).\\n\\nAmendments and revocations\\n\\n11.—(1)  In the 1996 Regulations (in so far as they apply to England) in regulation 4(2) (scope\\n\\nof Part II) sub-paragraph (b) shall be omitted.\\n\\n(2)  The following entries relating to the Cocoa and Chocolate Products Regulations 1976(8) shall\\n\\n(in so far as the following Regulations apply to England), be omitted—\\n\\n(a) in the Food (Revision of Penalties) Regulations 1982(9), in Schedule 1;\\n\\n(b) in the Food (Revision of Penalties) Regulations 1985(10), in Schedule 1, Part I;\\n\\n(c) in the Food Safety Act 1990 (Consequential Modifications) (England and Wales) Order\\n1990(11), in Schedule 1, Part I, Schedule 2, Schedule 3, Part I and Schedules 6 and 12;\\n\\n(d) in the Food Safety (Exports) Regulations 1991(12) in Schedule 1, Part I;\\n\\n(e) in the Food (Forces Exemptions) (Revocations) Regulations 1992(13), in Schedule 1, Part\\n\\nI;\\n\\n(f) in the Miscellaneous Food Additives Regulations 1995(14), in Schedule 9;\\n\\n(g) in the 1996 Regulations, in regulation 49(4)(a) and Schedule 9;\\n\\n(h) in \\n\\nthe  Miscellaneous  Food  Additives  (Amendment)  Regulations  1999(15), \\n\\nin\\n\\nregulation 14(1);'),\n",
       " Document(metadata={'source': '../data/Regulaciones cacao y chocolate 2003.pdf'}, page_content='(g) in the 1996 Regulations, in regulation 49(4)(a) and Schedule 9;\\n\\n(h) in \\n\\nthe  Miscellaneous  Food  Additives  (Amendment)  Regulations  1999(15), \\n\\nin\\n\\nregulation 14(1);\\n\\n(i) in  the  Miscellaneous  Food  Additives  (Amendment)  (England)  (No.  2)  Regulations\\n\\n2001(16), in regulation 9(2).\\n\\n(8) S.I.  1976/541;  relevant  amending  instruments  S.I  1982/17,  1982/1727,  1985/67,  1990/2486,  1991/1476,  1992/2596,\\n\\n1995/3187, 1996/1499.\\n\\n(9) S.I. 1982/1727 to which there are amendments not relevant to these Regulations.\\n(10) S.I. 1985/67 to which there are amendments not relevant to these Regulations.\\n(11) S.I. 1990/2486 to which there are amendments not relevant to these Regulations.\\n(12) S.I. 1991/1476 to which there are amendments not relevant to these Regulations.\\n(13) S.I. 1992/2596 to which there are amendments not relevant to these Regulations.\\n(14) S.I. 1995/3187; relevant amending instruments are S.I. 1997/1413, 1999/1136, 2000/3323, 2001/60 and 2001/3775.\\n(15) S.I. 1999/1136.\\n(16) S.I. 2001/3775.\\n\\n5\\n\\n\\x0cStatus:  This is the original version (as it was originally made).\\n\\nDocument Generated: 2023-04-24\\n\\n(3)    In  Schedule  9  to  the  Miscellaneous  Food  Additives  Regulations  1995  (in  so  far  as  they\\napply to England) the entry relating to the Cocoa and Chocolate Products (Amendment) Regulations\\n1982(17) shall be omitted.\\n\\n(4)  In so far as the Regulations in which they appear apply to England, there shall be substituted\\nfor the following references to Directive 73/241/EEC(18), references to Directive 2000/36/EC(19)—\\n\\n(a) in the Colourings in Food Regulations 1995(20), in Schedule 2;\\n\\n(b) in  the  Miscellaneous  Food  Additives  Regulations  1995(21),  in  Schedule  3  and  in\\n\\nSchedule 7.\\n\\n(5)  The Cocoa and Chocolate Products Regulations 1976 and the Cocoa and Chocolate Products\\n\\n(Amendment) Regulations 1982 are hereby revoked (in so far as they apply to England).\\n\\nTransitional provision\\n\\n12. In any proceedings for an offence under these Regulations it shall be a defence for the accused\\n\\nto prove that—\\n\\n(a) the food concerned was marked or labelled before 3rd August 2003, and\\n\\n(b) the matters constituting the alleged offence would not have constituted an offence under\\nthe Cocoa and Chocolate Products Regulations 1976 as they stood immediately before the\\ndate of coming into force of these Regulations.\\n\\nSigned by authority of the Secretary of State for Health\\n\\n25th June 2003\\n\\nMelanie Johnson\\nParliamentary Under-Secretary of State,\\nDepartment of Health\\n\\n(17) S.I. 1982/17.\\n(18) OJ No. L228, 16.8.1973, p.23, as repealed with effect from 3rd August 2003 by Directive 2000/36/EC (OJ No. L197, 3.8.2000,\\n\\np.19).\\n\\n(19) OJ No. L197, 3.8.2000, p.19.\\n(20) S.I. 1995/3124 to which there are amendments not relevant to these Regulations.\\n(21) S.I. 1995/3187; the relevant amending instrument is S.I. 1999/1136.\\n\\n6\\n\\n\\x0cDocument Generated: 2023-04-24\\n\\nStatus:  This is the original version (as it was originally made).\\n\\nCOCOA AND CHOCOLATE PRODUCTS AND THEIR RESERVED DESCRIPTIONS\\n\\nSCHEDULE 1\\n\\nRegulations 2, 3 and 6\\n\\nColumn 1\\nReserved Descriptions\\n\\n1. Cocoa butter\\n\\n(a)\\n\\n(a)  Cocoa powder or Cocoa\\n\\n(b)\\n\\n(b)    Fat-reduced  cocoa  or  Fat-\\n\\nreduced cocoa powder\\n\\n(c)\\n\\n(c) \\n\\n  Powdered  chocolate  or\\n\\nChocolate in powder\\n\\n(d)\\n\\n(e)\\n\\n(d) \\n\\n  Drinking \\n\\nchocolate  or\\nSweetened cocoa or Sweetened cocoa\\npowder\\n\\n(e)  Fat-reduced drinking chocolate\\nor  Fat-reduced  sweetened  cocoa  or\\nFat-reduced sweetened cocoa powder\\n\\nColumn 2\\nDesignated Products\\nThe fat obtained from cocoa beans or parts of\\ncocoa beans with the following characteristics:\\n—\\n\\n— not more than 1.75 per cent free fatty acid\\ncontent (expressed as oleic acid); and\\n— for press cocoa butter, not more than\\n\\n0.35 per cent unsaponifiable matter\\n(determined using petroleum ether); or\\n\\n— for other cocoa butter, not more than\\n0.5 per cent unsaponifiable matter (so\\ndetermined).'),\n",
       " Document(metadata={'source': '../data/Regulaciones cacao y chocolate 2003.pdf'}, page_content='0.35 per cent unsaponifiable matter\\n(determined using petroleum ether); or\\n\\n— for other cocoa butter, not more than\\n0.5 per cent unsaponifiable matter (so\\ndetermined).\\n\\nThe product obtained by converting into\\npowder cocoa beans which have been cleaned,\\nshelled and roasted, and which contains not\\nless than 20 per cent cocoa butter, calculated\\naccording to the weight of the dry matter, and\\nnot more than 9 per cent water.\\n\\nCocoa powder containing less than 20 per cent\\ncocoa butter, calculated according to the weight\\nof the dry matter.\\n\\nThe product consisting of a mixture of cocoa\\npowder and sugars, containing not less than 32\\nper cent cocoa powder.\\n\\nThe product consisting of a mixture of cocoa\\npowder and sugars, containing not less than 25\\nper cent cocoa powder.\\n\\nThe product consisting of a mixture of cocoa\\npowder specified at item 2(b) and sugars,\\ncontaining not less than 25 per cent of such\\ncocoa powder.\\n\\n(a)\\n\\n(a)  Chocolate\\n\\n(a) The product obtained from cocoa\\n\\nproducts and sugars which, subject to\\nitem 3(b), contains not less than 35 per\\ncent total dry cocoa solids, including not\\nless than 18 per cent cocoa butter and not\\nless than 14 per cent of dry non-fat cocoa\\nsolids.\\n\\n(b)\\n\\n(b)  If “Chocolate” is supplemented\\n\\n(b)\\n\\n(b) \\n\\nby\\n\\n(i) “vermicelli” or “flakes”\\n\\n(i) The product presented in the form of\\ngranules or flakes containing not less\\nthan 32 per cent total dry cocoa solids,\\n\\n7\\n\\n\\x0cStatus:  This is the original version (as it was originally made).\\n\\nDocument Generated: 2023-04-24\\n\\nColumn 1\\nReserved Descriptions\\n\\nColumn 2\\nDesignated Products\\n\\n(ii) “couverture”\\n\\n(iii) “Gianduja” or one of the derivatives of\\n\\n“Gianduja”\\n\\n(a)\\n\\n(a)  Milk chocolate\\n\\nincluding not less than 12 per cent cocoa\\nbutter and not less than 14 per cent of dry\\nnon-fat cocoa solids.\\n\\n(ii) The product containing not less than 35\\nper cent total dry cocoa solids, including\\nnot less than 31 per cent cocoa butter and\\nnot less than 2.5 per cent of dry non-fat\\ncocoa solids.\\n\\n(iii) The nut chocolate product obtained (1)\\nfrom chocolate having a minimum total\\ndry cocoa solids content of 32 per cent\\nincluding a minimum dry non-fat cocoa\\nsolids content of 8 per cent, and (2) from\\nfinely ground hazelnuts in such quantities\\nthat 100 grams of the product contain not\\nless than 20 grams and not more than 40\\ngrams of hazelnuts; and to which may\\nhave been added—\\n\\n— milk or dry milk solids obtained by\\n\\nevaporation or both, in such proportion\\nthat the finished product does not contain\\nmore than 5 per cent dry milk solids;\\n\\n— almonds, hazelnuts and other nut\\n\\nvarieties, either whole or broken, in such\\nquantities that, together with the ground\\nhazelnuts, they do not exceed 60 per cent\\nof the total weight of the product.\\n\\n(a) The product obtained from cocoa\\nproducts, sugars and milk or milk\\nproducts which, subject to item 4(b),\\ncontains—\\n\\n— not less than 25 per cent total dry\\n\\ncocoa solids;\\n\\n— not less than 14 per cent dry milk\\n\\nsolids obtained by partly or wholly\\ndehydrating whole milk, semi-\\nskimmed or skimmed milk, cream,\\nor from partly or wholly dehydrated\\ncream, butter or milk fat;\\n\\n— not less than 2.5 per cent dry non-\\n\\nfat cocoa solids;\\n\\n— not less than 3.5 per cent milk fat;\\n— not less than 25 per cent total fat\\n(cocoa butter and milk fat).\\n\\n(b)\\n\\n(b) \\n\\nIf  “Milk  chocolate” \\n\\nis\\n\\n(b)\\n\\n(b) \\n\\nsupplemented by—\\n\\n(i) “vermicelli” or “flakes”\\n\\n(i) The product presented in the form of\\ngranules or flakes containing not less\\n\\n8\\n\\n \\n\\x0cDocument Generated: 2023-04-24\\n\\nStatus:  This is the original version (as it was originally made).\\n\\nColumn 1\\nReserved Descriptions\\n\\nColumn 2\\nDesignated Products\\n\\nthan 20 per cent total dry cocoa solids,\\nnot less than 12 per cent dry milk solids\\nobtained by partly or wholly dehydrating\\nwhole milk, semi-skimmed or skimmed\\nmilk, cream or from partly or wholly\\ndehydrated cream, butter or milk fat and\\nnot less than 12 per cent total fat (cocoa\\nbutter and milk fat).'),\n",
       " Document(metadata={'source': '../data/Regulaciones cacao y chocolate 2003.pdf'}, page_content='(ii) The product containing a minimum total\\nfat (cocoa butter and milk fat) content of\\n31 per cent.\\n\\n(ii) “couverture”\\n\\n(iii) “Gianduja” or one of the derivatives of\\n\\n(iii) The nut milk chocolate product obtained\\n\\n“Gianduja”\\n\\n(1) from milk chocolate having a\\nminimum content of 10 per cent dry\\nmilk solids, obtained by partly or wholly\\ndehydrating whole milk, semi-skimmed\\nor skimmed milk, cream, or from partly\\nor wholly dehydrated cream, butter or\\nmilk fat and (2) from finely ground\\nhazelnuts in such quantities that 100\\ngrams of the product contain not less than\\n15 grams and not more than 40 grams of\\nhazelnuts; and to which may have been\\nadded almonds, hazelnuts and other nut\\nvarieties, either whole or broken, in such\\nquantities that, together with the ground\\nhazelnuts, they do not exceed 60 per cent\\nof the total weight of the product.\\n\\n(c)\\n\\n(c)  If “Milk” is replaced by—\\n\\n(c)\\n\\n(c) \\n\\n(i) “cream”\\n\\n(ii) “skimmed milk”\\n\\n(i) The product containing a minimum milk\\n\\nfat content of 5.5 per cent.\\n\\n(ii) The product containing a milk fat content\\n\\nnot greater than 1 per cent.\\n\\n5. Family milk chocolate or Milk chocolate The product obtained from cocoa products,\\n\\nsugars and milk or milk products which\\ncontains—\\n\\n— not less than 20 per cent total dry cocoa\\n\\nsolids;\\n\\n— not less than 20 per cent dry milk solids\\nobtained by partly or wholly dehydrating\\nwhole milk, semi-skimmed or skimmed\\nmilk, cream, or from partly or wholly\\ndehydrated cream, butter or milk fat;\\n— not less than 2.5 per cent dry non-fat\\n\\ncocoa solids;\\n\\n— not less than 5 per cent milk fat;\\n\\n9\\n\\n\\x0cStatus:  This is the original version (as it was originally made).\\n\\nDocument Generated: 2023-04-24\\n\\nColumn 1\\nReserved Descriptions\\n\\n6. White chocolate\\n\\n7. Filled chocolate or\\n\\nChocolate with … filling or\\nChocolate with … centre\\n\\n8. Chocolate a la taza\\n\\n9. Chocolate familiar a la taza\\n\\n10. A chocolate or A praline\\n\\nColumn 2\\nDesignated Products\\n— not less than 25 per cent total fat (cocoa\\n\\nbutter and milk fat).\\n\\nThe product obtained from cocoa butter, milk\\nor milk products and sugars which contains not\\nless than 20 per cent cocoa butter and not less\\nthan 14 per cent dry milk solids obtained by\\npartly or wholly dehydrating whole milk, semi-\\nskimmed or skimmed milk, cream, or from\\npartly or wholly dehydrated cream, butter or\\nmilk fat, of which not less than 3.5 per cent is\\nmilk fat.\\n\\nThe filled product, the outer part of which\\nconsists of a product specified in column\\n2 of item 3, 4, 5 or 6 of this Schedule and\\nconstitutes not less than 25 per cent of the total\\nweight of the product, but does not include any\\nfilled product, the inside of which consists of\\nbakery products, pastry, biscuit or edible ice.\\n\\nThe product obtained from cocoa products,\\nsugars, and flour or starch from wheat, rice or\\nmaize, which contains not less than 35 per cent\\ntotal dry cocoa solids, including not less than\\n18 per cent cocoa butter and not less than 14\\nper cent dry non-fat cocoa solids, and not more\\nthan 8 per cent flour or starch.\\n\\nThe product obtained from cocoa products,\\nsugars, and flour or starch from wheat, rice or\\nmaize, which contains not less than 30 per cent\\ntotal dry cocoa solids, including not less than\\n18 per cent cocoa butter and not less than 12\\nper cent dry non-fat cocoa solids, and not more\\nthan 18 per cent flour or starch.\\n\\n(b)\\n\\nThe product in single mouthful size, consisting\\nof:—\\n(a)\\n\\nthe product specified in column 2 of item\\n7 of this Schedule; or\\na single chocolate or a combination or a\\nmixture of chocolate within the meaning\\nof any of the definitions specified in\\ncolumn 2 of items 3, 4, 5 and 6 of this\\nSchedule and any other edible substance,\\nprovided that the chocolate constitutes not\\nless than 25 per cent of the total weight of\\nthe product.\\n\\nNotes.\\n1. —\\n(1)\\n\\nSubject to regulation 3 and paragraph (2) of this Note, other edible substances may\\nalso be added to the designated chocolate products specified in column 2 of items 3,\\n4, 5, 6, 8 and 9 of this Schedule:\\n\\n10'),\n",
       " Document(metadata={'source': '../data/Regulaciones cacao y chocolate 2003.pdf'}, page_content='10\\n\\n\\x0cDocument Generated: 2023-04-24\\n\\nStatus:  This is the original version (as it was originally made).\\n\\nProvided that this paragraph does not authorise the addition—\\n(a)\\n(b)\\n\\nof animal fats and their preparations not deriving solely from milk; or\\nof flours, granular and powdered starch other than in accordance with the\\ndefinitions specified in column 2 of items 8 and 9 of this Schedule; or\\nof other edible substances in a quantity exceeding 40 per cent of the total\\nweight of the finished product.\\n\\n(c)\\n\\n(2) Only those flavourings which do not mimic the taste of chocolate or of milk fat may\\nbe added to the designated products specified in column 2 of items 2, 3, 4, 5, 6, 8 and\\n9 of this Schedule.\\n\\n2. —\\n\\n(2)\\n\\n(1) The minimum contents of the designated chocolate products specified in column 2\\n\\nof items 3, 4, 5, 6, 8 and 9 of this Schedule shall be calculated after deduction of the\\nweight of other edible substances provided for in Note 1 to this Schedule.\\nIn the case of the designated chocolate products specified in column 2 of items 7 and\\n10 of this Schedule, the minimum contents shall be calculated after deducting the\\nweight of other edible substances provided for in Note 1 to this Schedule, as well as\\nthe weight of the filling.\\n\\n(3) The chocolate contents of the designated chocolate products specified in column 2 of\\n\\nitems 7 and 10 of this Schedule shall be calculated in relation to the total weight of\\nthe finished product, including its filling.\\n\\nIn this Schedule, “sugars” includes sugars covered by Council Directive 2001/111/EC(22)\\nand other sugars.\\n\\n3.\\n\\nSCHEDULE 2\\n\\nRegulations 2 and 3\\n\\nAUTHORISED VEGETABLE FATS\\n\\n1. Subject  to  the  following  paragraphs  of  this  Schedule,  the  vegetable  fats  referred  to  in\\nregulation 3 are, singly or in blends, cocoa butter equivalents and shall comply with the following\\ncriteria:—\\n\\n(a) they  are  non-lauric  vegetable  fats,  which  are  rich  in  symmetrical  monounsaturated\\n\\ntriglycerides of the type POP, POSt and StOSt;\\n\\n(b) they are miscible in any proportion with cocoa butter, and are compatible with its physical\\nproperties (melting point and crystallisation temperatures, melting rate, need for tempering\\nphase);\\n\\n(c) they are obtained only by the processes of refining or fractionation or both, which exclude\\n\\nenzymatic modification of the triglyceride structure.\\n\\n2. In conformity with the criteria specified in paragraph 1 above, the following vegetable fats,\\n\\nobtained from the plants listed in the Table below, may be used:—\\n\\nUsual name of vegetable fat\\n\\n1. Illipe, Borneo tallow or Tengkawang\\n\\nScientific name of the plants from which\\nthe fats listed can be obtained\\nShorea spp.\\n\\n2. Palm-oil\\n\\n3. Sal\\n\\n4. Shea\\n\\n5. Kokum gurgi\\n\\nElaeis guineensis\\n\\nElaeis olifera\\n\\nShorea robusta\\n\\nBurtyrospermum parkii\\n\\nGarcinia indica\\n\\n(22) OJ L10, 12.1.2002, p.53.\\n\\n11\\n\\n\\x0cStatus:  This is the original version (as it was originally made).\\n\\nDocument Generated: 2023-04-24\\n\\nUsual name of vegetable fat\\n\\n6. Mango kernel\\n\\nScientific name of the plants from which\\nthe fats listed can be obtained\\nMangifera indica\\n\\n3. Coconut oil may be used in chocolate for the manufacture of ice cream and similar frozen\\n\\nproducts.\\n\\n4. In this Schedule—\\n\\n“P” means palmitic acid;\\n\\n“O” means oleic acid;\\n\\n“St” means stearic acid.\\n\\nEXPLANATORY NOTE\\n\\n(This note is not part of the Regulations)\\n\\nThese  Regulations,  which  apply  to  England,  implement  Directive  2000/36/EC  of  the  European\\nParliament  and  the  Council  relating  to  cocoa  and  chocolate  products  intended  for  human\\nconsumption(23). They revoke and replace the Cocoa and Chocolate Products Regulations 1976, as\\namended, in relation to England.\\n\\nThe Regulations—\\n\\n(a) prescribe  definitions  and  reserved  descriptions  for  designated  cocoa  and  chocolate\\n\\nproducts (regulation 2 and Schedule 1);\\n\\n(b) specify  the  vegetable  fats,  other  than  cocoa  butter,  which  may  be  added  to  designated\\n\\nchocolate products (regulation 3 and Schedule 2);'),\n",
       " Document(metadata={'source': '../data/Regulaciones cacao y chocolate 2003.pdf'}, page_content='products (regulation 2 and Schedule 1);\\n\\n(b) specify  the  vegetable  fats,  other  than  cocoa  butter,  which  may  be  added  to  designated\\n\\nchocolate products (regulation 3 and Schedule 2);\\n\\n(c) apply  the  Regulations  to  designated  cocoa  and  chocolate  products  intended  for  human\\nconsumption and ready for delivery to the ultimate consumer or to a catering establishment\\n(regulation 4);\\n\\n(d) restrict the use of reserved descriptions to the designated cocoa and chocolate products to\\n\\nwhich they relate (regulation 5);\\n\\n(e) require reserved descriptions and specified declarations to be applied to designated cocoa\\nand chocolate products and prescribe the manner of marking or labelling (regulations 6\\nand 7);\\n\\n(f) specify a penalty, enforcement responsibilities and, in accordance with Articles 2 and 3 of\\nCouncil Directive 89/397/EEC on the official control of foodstuffs(24) and the European\\nEconomic Area Agreement, a defence in relation to exports (regulations 8 and 9);\\n\\n(g) apply various provisions of the Food Safety Act 1990 (regulation 10);\\n\\n(h) remove the exemption for cocoa and chocolate products from Part II of the Food Labelling\\nRegulations 1996, revoke the previous Cocoa and Chocolate Products Regulations and\\nmake consequential amendments and transitional provision (regulations 11 and 12).\\n\\n(23) OJ No. L197, 3.8.2000, p.19.\\n(24) OJ No. L186, 30.6.89, p. 23.\\n\\n12\\n\\n\\x0cDocument Generated: 2023-04-24\\n\\nStatus:  This is the original version (as it was originally made).\\n\\nA Regulatory Impact Assessment has been prepared and placed in the Library of each House of\\nParliament, together with a Transposition Note setting out how the main elements of the European\\nlegislation  referred  to  above  are  transposed  in  these  Regulations.  Copies  may  be  obtained  from\\nthe  Food  Labelling  and  Standards  Division  of  the  Food  Standards  Agency,  Aviation  House,  125\\nKingsway, London WC2B 6NH.\\n\\n13')]"
      ]
     },
     "execution_count": 2,
     "metadata": {},
     "output_type": "execute_result"
    }
   ],
   "source": [
    "splitted_doc"
   ]
  },
  {
   "cell_type": "markdown",
   "metadata": {},
   "source": [
    "## Dense Embeddings\n",
    "\n",
    "-Dense embeddings are continuous, low-dimensional vectors where each dimension holds meaningful information. They are typically generated using neural networks and represent data in a compressed form. Dense embeddings are commonly used in deep learning models, capturing semantic similarity between inputs like documents and queries. In RAG, dense embeddings help retrieve documents that are semantically similar to a query."
   ]
  },
  {
   "cell_type": "code",
   "execution_count": 3,
   "metadata": {},
   "outputs": [
    {
     "name": "stderr",
     "output_type": "stream",
     "text": [
      "f:\\repositorios\\rag-course-fix\\.venv\\Lib\\site-packages\\tqdm\\auto.py:21: TqdmWarning: IProgress not found. Please update jupyter and ipywidgets. See https://ipywidgets.readthedocs.io/en/stable/user_install.html\n",
      "  from .autonotebook import tqdm as notebook_tqdm\n",
      "f:\\repositorios\\rag-course-fix\\.venv\\Lib\\site-packages\\transformers\\tokenization_utils_base.py:1601: FutureWarning: `clean_up_tokenization_spaces` was not set. It will be set to `True` by default. This behavior will be depracted in transformers v4.45, and will be then set to `False` by default. For more details check this issue: https://github.com/huggingface/transformers/issues/31884\n",
      "  warnings.warn(\n",
      "Fetching 29 files: 100%|██████████| 29/29 [00:00<?, ?it/s]\n"
     ]
    }
   ],
   "source": [
    "from dotenv import load_dotenv\n",
    "from langchain_qdrant import FastEmbedSparse, RetrievalMode\n",
    "from langchain_qdrant import QdrantVectorStore\n",
    "from langchain_openai import OpenAIEmbeddings\n",
    "from langchain_qdrant import RetrievalMode\n",
    "from langchain_huggingface import HuggingFaceEmbeddings\n",
    "\n",
    "load_dotenv()\n",
    "\n",
    "embeddings = OpenAIEmbeddings()\n",
    "open_source_embeddings = HuggingFaceEmbeddings(model_name=\"sentence-transformers/paraphrase-MiniLM-L6-v2\")\n",
    "sparse_embeddings = FastEmbedSparse(model_name=\"Qdrant/bm25\")\n",
    "\n",
    "\n",
    "qdrant = QdrantVectorStore.from_documents(\n",
    "    splitted_doc,\n",
    "    embedding=open_source_embeddings,\n",
    "    location=\":memory:\",\n",
    "    collection_name=\"my_documents\",\n",
    "    retrieval_mode=RetrievalMode.DENSE,\n",
    ")\n",
    "\n",
    "query = \"What did the president say about Ketanji Brown Jackson\"\n",
    "found_docs = qdrant.similarity_search(query)"
   ]
  },
  {
   "cell_type": "code",
   "execution_count": 4,
   "metadata": {},
   "outputs": [
    {
     "data": {
      "text/plain": [
       "[Document(metadata={'source': '../data/Regulaciones cacao y chocolate 2003.pdf', '_id': '7d06078675cd4a3b8b8ceed2a4bc7e36', '_collection_name': 'my_documents'}, page_content='Status:  This is the original version (as it was originally made).\\n\\nSTATUTORY INSTRUMENTS\\n\\n2003 No. 1659\\n\\nFOOD, ENGLAND\\n\\nThe Cocoa and Chocolate Products (England) Regulations 2003\\n\\nMade       -      -      -      -\\n\\nLaid before Parliament \\n\\n25th June 2003\\n\\n3rd July 2003\\n\\nComing into force       -      -\\n\\n3rd August 2003\\n\\nThe Secretary of State, in exercise of the powers conferred by sections 16(1)(e), 17(1), 26(1) and (3)\\nand 48(1) of the Food Safety Act 1990(1) and now vested in him(2) and of all other powers enabling\\nhim  in  that  behalf,  having  had  regard  in  accordance  with  section  48(4A)  of  that  Act  to  relevant\\nadvice given by the Food Standards Agency, and after consultation both as required by Article 9\\nof Regulation (EC) No. 178/2002 of the European Parliament and of the Council laying down the\\ngeneral principles and requirements of food law, establishing the European Food Safety Authority\\nand laying down procedures in matters of food safety(3) and in accordance with section 48(4) and\\n(4B) of that Act, hereby makes the following Regulations:\\n\\nTitle, commencement and application\\n\\n1. These Regulations may be cited as the Cocoa and Chocolate Products (England) Regulations\\n\\n2003, shall come into force on 3rd August 2003 and shall apply to England only.\\n\\nInterpretation\\n\\n2.—(1)  In these Regulations—\\n\\n“the Act” means the Food Safety Act 1990;\\n\\n1990 c. 16.\\n\\n(1)\\n(2) Functions formerly exercisable by “the Ministers” (being, in relation to England and Wales and acting jointly, the Minister\\nof Agriculture, Fisheries and Food and the Secretaries of State respectively concerned with health in England and food and\\nhealth in Wales and, in relation to Scotland, the Secretary of State) are now exercisable in relation to England by the Secretary\\nof State pursuant to paragraphs 7 and 8 of Schedule 5 to the Food Standards Act 1999 (c. 28), and paragraphs 12 and 21 of\\nthat Schedule amend sections 17(1) and 48 of the 1990 Act. Functions of “the Ministers” so far as exercisable in relation\\nto Wales were transferred to the National Assembly for Wales by the National Assembly for Wales (Transfer of Functions)\\nOrder 1999 (S.I.1999/672), as read with section 40(3) of the 1999 Act, and those functions so far as exercisable in relation to\\nScotland were transferred to the Scottish Ministers by section 53 of the Scotland Act 1998 (c. 46) as read with section 40(2)\\nof the 1999 Act. Regulation 13(4) of the Food Standards Act 1999 (Transitional and Consequential Provisions and Savings)\\n(England and Wales) Regulations 2000 (S.I. 2000/656) expressly authorises the Secretary of State to amend or revoke existing\\nRegulations made or having effect as if made by the Minister of Agriculture, Fisheries and Food (whether with others or not)\\nunder the 1990 Act.\\n(3) OJ No. L31, 1.2.2002, p.1.\\n\\n\\x0cStatus:  This is the original version (as it was originally made).\\n\\nDocument Generated: 2023-04-24\\n\\n“catering establishment” means a restaurant, canteen, club, public house, school, hospital or\\nsimilar establishment (including a vehicle or a fixed or mobile stall) where, in the course of a\\nbusiness, food is prepared for delivery to the ultimate consumer and is ready for consumption\\nwithout further preparation;\\n\\n“designated  product”  means  any  cocoa  or  chocolate  product  specified  in  column  2  of\\nSchedule  1,  as  read  with  any  Note  to  that  Schedule  and  any  provision  of  regulation  3  and\\nSchedule 2 relating to that product; and “designated chocolate product” and “designated cocoa\\nproduct” mean any such product which is respectively a chocolate product or a cocoa product;\\n\\n“EEA Agreement” means the Agreement on the European Economic Area(4) signed at Oporto\\non 2nd May 1992 as adjusted by the Protocol(5) signed at Brussels on 17th March 1993;\\n\\n“EEA State” means a State which is a Contracting Party to the EEA Agreement;\\n\\n“food authority” does not include—\\n\\n(a)\\n\\n(b)'),\n",
       " Document(metadata={'source': '../data/Regulaciones cacao y chocolate 2003.pdf', '_id': 'a921cd9c6231410eb016afa7680f140a', '_collection_name': 'my_documents'}, page_content='“EEA State” means a State which is a Contracting Party to the EEA Agreement;\\n\\n“food authority” does not include—\\n\\n(a)\\n\\n(b)\\n\\nthe council of a district in a non-metropolitan county except where the county functions\\nhave been transferred to that council pursuant to a structural change, or\\n\\nthe appropriate Treasurer referred to in section 5(1)(c) of the Act (which deals with the\\nInner and the Middle Temple);\\n\\n“the 1996 Regulations” means the Food Labelling Regulations 1996(6);\\n\\n“other  edible  substances”  does  not  include  vegetable  fats  referred  to  in  regulation  3  or  the\\nfilling of any product specified in column 2 of item 7 or of item 10(a) of Schedule 1;\\n\\n“preparation” includes manufacture and any form of processing or treatment;\\n\\n“reserved description”, as respects any designated product, means any description specified in\\nrelation to that product in column 1 of Schedule 1;\\n\\n“sell”  includes  offer  or  expose  for  sale  or  have  in  possession  for  sale,  and  “sale”  shall  be\\nconstrued accordingly; and\\n\\n“ultimate consumer” means any person who buys otherwise than—\\n\\n(a)\\n\\n(b)\\n\\n(c)\\n\\nfor the purpose of resale,\\n\\nfor the purposes of a catering establishment, or\\n\\nfor the purposes of a manufacturing business.\\n\\n(2)  Any reference in these Regulations to a numbered regulation or Schedule shall be construed\\n\\nas a reference to the regulation or Schedule bearing that number in these Regulations.\\n\\nVegetable fats in chocolate products\\n\\n3.—(1)  Subject to paragraph (2) below, the vegetable fats, other than cocoa butter, specified in\\nSchedule 2 may be added to those designated chocolate products specified in column 2 of items 3,\\n4, 5, 6, 8 and 9 of Schedule 1.\\n\\n(2)  An addition in accordance with paragraph 1 may not exceed 5 per cent of the finished product,\\nafter deduction of the total weight of any other edible substances used in accordance with the Note 1\\nto Schedule 1, without reducing the minimum content of cocoa butter or total dry cocoa solids.\\n\\nScope of Regulations\\n\\n4. These Regulations apply to designated products intended for human consumption and ready\\n\\nfor delivery to the ultimate consumer or to a catering establishment.\\n\\n(4) OJ No. L1, 3.1.94, p.1.\\n(5) OJ No. L1, 3.1.94, p.571.\\n(6) S.I. 1996/1499, the relevant amending instrument is S.I. 1998/1398.\\n\\n2\\n\\n\\x0cDocument Generated: 2023-04-24\\n\\nStatus:  This is the original version (as it was originally made).\\n\\nReserved descriptions\\n\\n5. No person shall sell any food with a label, whether or not attached to or printed on the wrapper\\nor container, which bears, comprises or includes any reserved description or any derivative thereof\\nor any word or description substantially similar thereto unless—\\n\\n(a) such food is the designated product to which the reserved description relates;\\n\\n(b) such description, derivative or word is used in such a context as to indicate explicitly or by\\nclear implication that the substance to which it relates is only an ingredient of that food; or\\n\\n(c) such description, derivative or word is used in such a context as to indicate explicitly or\\nby clear implication that such food is not and does not contain a designated product.\\n\\nLabelling and description of designated products\\n\\n6.—(1)  Without prejudice to the generality of Part II of the 1996 Regulations, no person shall\\n\\nsell any designated product unless it is marked or labelled with the following particulars—\\n\\n(a) subject to paragraphs (2)(a) and (3) below, a reserved description of the product;\\n\\n(b) subject  to  paragraph  (2)  of  regulation  7,  in  the  case  of  a  designated  chocolate  product\\nwhich,  pursuant  to  regulation  3,  contains  vegetable  fats  other  than  cocoa  butter,  the\\nconspicuous and clearly legible statement “contains vegetable fats in addition to cocoa\\nbutter”;'),\n",
       " Document(metadata={'source': '../data/Regulaciones cacao y chocolate 2003.pdf', '_id': '6a3440fc737b4317968b991d503d534c', '_collection_name': 'my_documents'}, page_content='10\\n\\n\\x0cDocument Generated: 2023-04-24\\n\\nStatus:  This is the original version (as it was originally made).\\n\\nProvided that this paragraph does not authorise the addition—\\n(a)\\n(b)\\n\\nof animal fats and their preparations not deriving solely from milk; or\\nof flours, granular and powdered starch other than in accordance with the\\ndefinitions specified in column 2 of items 8 and 9 of this Schedule; or\\nof other edible substances in a quantity exceeding 40 per cent of the total\\nweight of the finished product.\\n\\n(c)\\n\\n(2) Only those flavourings which do not mimic the taste of chocolate or of milk fat may\\nbe added to the designated products specified in column 2 of items 2, 3, 4, 5, 6, 8 and\\n9 of this Schedule.\\n\\n2. —\\n\\n(2)\\n\\n(1) The minimum contents of the designated chocolate products specified in column 2\\n\\nof items 3, 4, 5, 6, 8 and 9 of this Schedule shall be calculated after deduction of the\\nweight of other edible substances provided for in Note 1 to this Schedule.\\nIn the case of the designated chocolate products specified in column 2 of items 7 and\\n10 of this Schedule, the minimum contents shall be calculated after deducting the\\nweight of other edible substances provided for in Note 1 to this Schedule, as well as\\nthe weight of the filling.\\n\\n(3) The chocolate contents of the designated chocolate products specified in column 2 of\\n\\nitems 7 and 10 of this Schedule shall be calculated in relation to the total weight of\\nthe finished product, including its filling.\\n\\nIn this Schedule, “sugars” includes sugars covered by Council Directive 2001/111/EC(22)\\nand other sugars.\\n\\n3.\\n\\nSCHEDULE 2\\n\\nRegulations 2 and 3\\n\\nAUTHORISED VEGETABLE FATS\\n\\n1. Subject  to  the  following  paragraphs  of  this  Schedule,  the  vegetable  fats  referred  to  in\\nregulation 3 are, singly or in blends, cocoa butter equivalents and shall comply with the following\\ncriteria:—\\n\\n(a) they  are  non-lauric  vegetable  fats,  which  are  rich  in  symmetrical  monounsaturated\\n\\ntriglycerides of the type POP, POSt and StOSt;\\n\\n(b) they are miscible in any proportion with cocoa butter, and are compatible with its physical\\nproperties (melting point and crystallisation temperatures, melting rate, need for tempering\\nphase);\\n\\n(c) they are obtained only by the processes of refining or fractionation or both, which exclude\\n\\nenzymatic modification of the triglyceride structure.\\n\\n2. In conformity with the criteria specified in paragraph 1 above, the following vegetable fats,\\n\\nobtained from the plants listed in the Table below, may be used:—\\n\\nUsual name of vegetable fat\\n\\n1. Illipe, Borneo tallow or Tengkawang\\n\\nScientific name of the plants from which\\nthe fats listed can be obtained\\nShorea spp.\\n\\n2. Palm-oil\\n\\n3. Sal\\n\\n4. Shea\\n\\n5. Kokum gurgi\\n\\nElaeis guineensis\\n\\nElaeis olifera\\n\\nShorea robusta\\n\\nBurtyrospermum parkii\\n\\nGarcinia indica\\n\\n(22) OJ L10, 12.1.2002, p.53.\\n\\n11\\n\\n\\x0cStatus:  This is the original version (as it was originally made).\\n\\nDocument Generated: 2023-04-24\\n\\nUsual name of vegetable fat\\n\\n6. Mango kernel\\n\\nScientific name of the plants from which\\nthe fats listed can be obtained\\nMangifera indica\\n\\n3. Coconut oil may be used in chocolate for the manufacture of ice cream and similar frozen\\n\\nproducts.\\n\\n4. In this Schedule—\\n\\n“P” means palmitic acid;\\n\\n“O” means oleic acid;\\n\\n“St” means stearic acid.\\n\\nEXPLANATORY NOTE\\n\\n(This note is not part of the Regulations)\\n\\nThese  Regulations,  which  apply  to  England,  implement  Directive  2000/36/EC  of  the  European\\nParliament  and  the  Council  relating  to  cocoa  and  chocolate  products  intended  for  human\\nconsumption(23). They revoke and replace the Cocoa and Chocolate Products Regulations 1976, as\\namended, in relation to England.\\n\\nThe Regulations—\\n\\n(a) prescribe  definitions  and  reserved  descriptions  for  designated  cocoa  and  chocolate\\n\\nproducts (regulation 2 and Schedule 1);\\n\\n(b) specify  the  vegetable  fats,  other  than  cocoa  butter,  which  may  be  added  to  designated\\n\\nchocolate products (regulation 3 and Schedule 2);'),\n",
       " Document(metadata={'source': '../data/Regulaciones cacao y chocolate 2003.pdf', '_id': '2f83e2343d0547ec845ecff37c77e3ce', '_collection_name': 'my_documents'}, page_content='(g) in the 1996 Regulations, in regulation 49(4)(a) and Schedule 9;\\n\\n(h) in \\n\\nthe  Miscellaneous  Food  Additives  (Amendment)  Regulations  1999(15), \\n\\nin\\n\\nregulation 14(1);\\n\\n(i) in  the  Miscellaneous  Food  Additives  (Amendment)  (England)  (No.  2)  Regulations\\n\\n2001(16), in regulation 9(2).\\n\\n(8) S.I.  1976/541;  relevant  amending  instruments  S.I  1982/17,  1982/1727,  1985/67,  1990/2486,  1991/1476,  1992/2596,\\n\\n1995/3187, 1996/1499.\\n\\n(9) S.I. 1982/1727 to which there are amendments not relevant to these Regulations.\\n(10) S.I. 1985/67 to which there are amendments not relevant to these Regulations.\\n(11) S.I. 1990/2486 to which there are amendments not relevant to these Regulations.\\n(12) S.I. 1991/1476 to which there are amendments not relevant to these Regulations.\\n(13) S.I. 1992/2596 to which there are amendments not relevant to these Regulations.\\n(14) S.I. 1995/3187; relevant amending instruments are S.I. 1997/1413, 1999/1136, 2000/3323, 2001/60 and 2001/3775.\\n(15) S.I. 1999/1136.\\n(16) S.I. 2001/3775.\\n\\n5\\n\\n\\x0cStatus:  This is the original version (as it was originally made).\\n\\nDocument Generated: 2023-04-24\\n\\n(3)    In  Schedule  9  to  the  Miscellaneous  Food  Additives  Regulations  1995  (in  so  far  as  they\\napply to England) the entry relating to the Cocoa and Chocolate Products (Amendment) Regulations\\n1982(17) shall be omitted.\\n\\n(4)  In so far as the Regulations in which they appear apply to England, there shall be substituted\\nfor the following references to Directive 73/241/EEC(18), references to Directive 2000/36/EC(19)—\\n\\n(a) in the Colourings in Food Regulations 1995(20), in Schedule 2;\\n\\n(b) in  the  Miscellaneous  Food  Additives  Regulations  1995(21),  in  Schedule  3  and  in\\n\\nSchedule 7.\\n\\n(5)  The Cocoa and Chocolate Products Regulations 1976 and the Cocoa and Chocolate Products\\n\\n(Amendment) Regulations 1982 are hereby revoked (in so far as they apply to England).\\n\\nTransitional provision\\n\\n12. In any proceedings for an offence under these Regulations it shall be a defence for the accused\\n\\nto prove that—\\n\\n(a) the food concerned was marked or labelled before 3rd August 2003, and\\n\\n(b) the matters constituting the alleged offence would not have constituted an offence under\\nthe Cocoa and Chocolate Products Regulations 1976 as they stood immediately before the\\ndate of coming into force of these Regulations.\\n\\nSigned by authority of the Secretary of State for Health\\n\\n25th June 2003\\n\\nMelanie Johnson\\nParliamentary Under-Secretary of State,\\nDepartment of Health\\n\\n(17) S.I. 1982/17.\\n(18) OJ No. L228, 16.8.1973, p.23, as repealed with effect from 3rd August 2003 by Directive 2000/36/EC (OJ No. L197, 3.8.2000,\\n\\np.19).\\n\\n(19) OJ No. L197, 3.8.2000, p.19.\\n(20) S.I. 1995/3124 to which there are amendments not relevant to these Regulations.\\n(21) S.I. 1995/3187; the relevant amending instrument is S.I. 1999/1136.\\n\\n6\\n\\n\\x0cDocument Generated: 2023-04-24\\n\\nStatus:  This is the original version (as it was originally made).\\n\\nCOCOA AND CHOCOLATE PRODUCTS AND THEIR RESERVED DESCRIPTIONS\\n\\nSCHEDULE 1\\n\\nRegulations 2, 3 and 6\\n\\nColumn 1\\nReserved Descriptions\\n\\n1. Cocoa butter\\n\\n(a)\\n\\n(a)  Cocoa powder or Cocoa\\n\\n(b)\\n\\n(b)    Fat-reduced  cocoa  or  Fat-\\n\\nreduced cocoa powder\\n\\n(c)\\n\\n(c) \\n\\n  Powdered  chocolate  or\\n\\nChocolate in powder\\n\\n(d)\\n\\n(e)\\n\\n(d) \\n\\n  Drinking \\n\\nchocolate  or\\nSweetened cocoa or Sweetened cocoa\\npowder\\n\\n(e)  Fat-reduced drinking chocolate\\nor  Fat-reduced  sweetened  cocoa  or\\nFat-reduced sweetened cocoa powder\\n\\nColumn 2\\nDesignated Products\\nThe fat obtained from cocoa beans or parts of\\ncocoa beans with the following characteristics:\\n—\\n\\n— not more than 1.75 per cent free fatty acid\\ncontent (expressed as oleic acid); and\\n— for press cocoa butter, not more than\\n\\n0.35 per cent unsaponifiable matter\\n(determined using petroleum ether); or\\n\\n— for other cocoa butter, not more than\\n0.5 per cent unsaponifiable matter (so\\ndetermined).')]"
      ]
     },
     "execution_count": 4,
     "metadata": {},
     "output_type": "execute_result"
    }
   ],
   "source": [
    "found_docs"
   ]
  },
  {
   "cell_type": "markdown",
   "metadata": {},
   "source": [
    "### Huggingface embeddings"
   ]
  },
  {
   "cell_type": "code",
   "execution_count": 5,
   "metadata": {},
   "outputs": [],
   "source": [
    "from langchain_huggingface import HuggingFaceEmbeddings\n",
    "\n",
    "embeddings = HuggingFaceEmbeddings(model_name=\"sentence-transformers/all-mpnet-base-v2\")"
   ]
  },
  {
   "cell_type": "code",
   "execution_count": 6,
   "metadata": {},
   "outputs": [
    {
     "data": {
      "text/plain": [
       "[-0.04895181953907013, -0.03986206650733948, -0.021562794223427773]"
      ]
     },
     "execution_count": 6,
     "metadata": {},
     "output_type": "execute_result"
    }
   ],
   "source": [
    "embeddings = HuggingFaceEmbeddings(model_name=\"sentence-transformers/all-mpnet-base-v2\")\n",
    "text = \"This is a test document.\"\n",
    "query_result = embeddings.embed_query(text)\n",
    "query_result[:3]"
   ]
  },
  {
   "cell_type": "code",
   "execution_count": 7,
   "metadata": {},
   "outputs": [
    {
     "data": {
      "text/plain": [
       "768"
      ]
     },
     "execution_count": 7,
     "metadata": {},
     "output_type": "execute_result"
    }
   ],
   "source": [
    "len(query_result)"
   ]
  },
  {
   "cell_type": "markdown",
   "metadata": {},
   "source": [
    "## Sparse embeddings\n",
    "\n",
    "- Sparse embeddings are high-dimensional vectors, where most elements are zero, and only a few dimensions hold non-zero values. They are often derived from traditional methods like TF-IDF or BM25, focusing on specific keywords or tokens present in the text. In the context of RAG, sparse embeddings help match documents and queries based on exact term overlap rather than broader semantic relationships."
   ]
  },
  {
   "cell_type": "code",
   "execution_count": 17,
   "metadata": {},
   "outputs": [
    {
     "name": "stderr",
     "output_type": "stream",
     "text": [
      "Fetching 29 files: 100%|██████████| 29/29 [00:00<00:00, 28995.19it/s]\n"
     ]
    },
    {
     "data": {
      "text/plain": [
       "156"
      ]
     },
     "execution_count": 17,
     "metadata": {},
     "output_type": "execute_result"
    }
   ],
   "source": [
    "from fastembed.sparse.bm25 import Bm25\n",
    "\n",
    "bm25_embedding_model = Bm25(\"Qdrant/bm25\")\n",
    "bm25_embeddings = list(bm25_embedding_model.passage_embed(splitted_doc[0].page_content))\n",
    "len(bm25_embeddings[0].values)"
   ]
  },
  {
   "cell_type": "code",
   "execution_count": 10,
   "metadata": {},
   "outputs": [
    {
     "name": "stderr",
     "output_type": "stream",
     "text": [
      "Fetching 29 files: 100%|██████████| 29/29 [00:00<?, ?it/s]\n"
     ]
    },
    {
     "data": {
      "text/plain": [
       "SparseVector(indices=[926244272, 1297930209, 1167338989], values=[1.0, 1.0, 1.0])"
      ]
     },
     "execution_count": 10,
     "metadata": {},
     "output_type": "execute_result"
    }
   ],
   "source": [
    "sparse_embeddings_model = FastEmbedSparse(model_name=\"Qdrant/bm25\")\n",
    "sparse_embeddings = sparse_embeddings_model.embed_query(\"This is a test document.\")\n",
    "sparse_embeddings"
   ]
  },
  {
   "cell_type": "markdown",
   "metadata": {},
   "source": [
    "## Late interaction embeddings\n",
    "\n",
    "- Late interaction embeddings refer to a hybrid approach where sparse and dense embeddings are combined during the retrieval process, but their interactions are delayed until the final ranking or matching phase. This allows the model to first retrieve candidates based on simpler, faster methods and then refine the ranking through more complex, dense representations. In RAG, this helps improve retrieval quality while balancing computational efficiency."
   ]
  },
  {
   "cell_type": "code",
   "execution_count": 12,
   "metadata": {},
   "outputs": [
    {
     "name": "stderr",
     "output_type": "stream",
     "text": [
      "Fetching 5 files:   0%|          | 0/5 [00:00<?, ?it/s]f:\\repositorios\\rag-course-fix\\.venv\\Lib\\site-packages\\huggingface_hub\\file_download.py:147: UserWarning: `huggingface_hub` cache-system uses symlinks by default to efficiently store duplicated files but your machine does not support them in C:\\Users\\carlo\\AppData\\Local\\Temp\\fastembed_cache\\models--colbert-ir--colbertv2.0. Caching files will still work but in a degraded version that might require more space on your disk. This warning can be disabled by setting the `HF_HUB_DISABLE_SYMLINKS_WARNING` environment variable. For more details, see https://huggingface.co/docs/huggingface_hub/how-to-cache#limitations.\n",
      "To support symlinks on Windows, you either need to activate Developer Mode or to run Python as an administrator. In order to activate developer mode, see this article: https://docs.microsoft.com/en-us/windows/apps/get-started/enable-your-device-for-development\n",
      "  warnings.warn(message)\n",
      "Fetching 5 files: 100%|██████████| 5/5 [00:15<00:00,  3.16s/it]\n"
     ]
    },
    {
     "data": {
      "text/plain": [
       "512"
      ]
     },
     "execution_count": 12,
     "metadata": {},
     "output_type": "execute_result"
    }
   ],
   "source": [
    "from fastembed.late_interaction import LateInteractionTextEmbedding\n",
    "\n",
    "late_interaction_embedding_model = LateInteractionTextEmbedding(\"colbert-ir/colbertv2.0\")\n",
    "late_interaction_embeddings = list(late_interaction_embedding_model.passage_embed(splitted_doc[0].page_content))\n",
    "len(late_interaction_embeddings[0])"
   ]
  },
  {
   "cell_type": "code",
   "execution_count": null,
   "metadata": {},
   "outputs": [],
   "source": []
  },
  {
   "cell_type": "markdown",
   "metadata": {},
   "source": []
  }
 ],
 "metadata": {
  "kernelspec": {
   "display_name": ".venv",
   "language": "python",
   "name": "python3"
  },
  "language_info": {
   "codemirror_mode": {
    "name": "ipython",
    "version": 3
   },
   "file_extension": ".py",
   "mimetype": "text/x-python",
   "name": "python",
   "nbconvert_exporter": "python",
   "pygments_lexer": "ipython3",
   "version": "3.11.5"
  }
 },
 "nbformat": 4,
 "nbformat_minor": 2
}
