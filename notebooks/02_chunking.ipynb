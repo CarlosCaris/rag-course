{
 "cells": [
  {
   "cell_type": "markdown",
   "metadata": {},
   "source": [
    "# Lesson 2: Document Chunking Strategies\n",
    "\n",
    "**Objective**: Learn how to effectively segment documents for better retrieval performance.\n",
    "\n",
    "**Topics**:\n",
    "\n",
    "- Chunking techniques: token-level, sentence-level, semantic-level\n",
    "- Balancing context preservation with retrieval precision\n",
    "- Small2Big and sliding window techniques\n",
    "\n",
    "**Practical Task**: Implement chunking strategies on a sample dataset.\n",
    "\n",
    "**Resources**:\n",
    "- The five levels of chunking\n",
    "- A guide to chunking\n"
   ]
  },
  {
   "cell_type": "markdown",
   "metadata": {},
   "source": []
  }
 ],
 "metadata": {
  "language_info": {
   "name": "python"
  }
 },
 "nbformat": 4,
 "nbformat_minor": 2
}
