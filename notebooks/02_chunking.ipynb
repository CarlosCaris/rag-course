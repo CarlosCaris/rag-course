{
 "cells": [
  {
   "cell_type": "markdown",
   "metadata": {},
   "source": [
    "# Lesson 2: Document Chunking Strategies\n",
    "\n",
    "**Objective**: Learn how to effectively segment documents for better retrieval performance.\n",
    "\n",
    "**Topics**:\n",
    "\n",
    "- Chunking techniques: token-level, sentence-level, semantic-level\n",
    "- Balancing context preservation with retrieval precision\n",
    "- Small2Big and sliding window techniques\n",
    "\n",
    "**Practical Task**: Implement chunking strategies on a sample dataset.\n",
    "\n",
    "**Resources**:\n",
    "- The five levels of chunking\n",
    "- A guide to chunking\n"
   ]
  },
  {
   "cell_type": "markdown",
   "metadata": {},
   "source": []
  },
  {
   "cell_type": "markdown",
   "metadata": {},
   "source": [
    "## The five levels of chunking"
   ]
  },
  {
   "cell_type": "code",
   "execution_count": 1,
   "metadata": {},
   "outputs": [],
   "source": [
    "# Imports\n",
    "from langchain_text_splitters import RecursiveCharacterTextSplitter"
   ]
  },
  {
   "cell_type": "markdown",
   "metadata": {},
   "source": []
  }
 ],
 "metadata": {
  "kernelspec": {
   "display_name": ".venv",
   "language": "python",
   "name": "python3"
  },
  "language_info": {
   "codemirror_mode": {
    "name": "ipython",
    "version": 3
   },
   "file_extension": ".py",
   "mimetype": "text/x-python",
   "name": "python",
   "nbconvert_exporter": "python",
   "pygments_lexer": "ipython3",
   "version": "3.11.5"
  }
 },
 "nbformat": 4,
 "nbformat_minor": 2
}
